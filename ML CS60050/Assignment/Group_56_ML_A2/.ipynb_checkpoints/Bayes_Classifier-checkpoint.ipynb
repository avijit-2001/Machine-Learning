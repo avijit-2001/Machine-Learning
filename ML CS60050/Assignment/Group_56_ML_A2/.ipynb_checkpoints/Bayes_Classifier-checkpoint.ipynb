{
 "cells": [
  {
   "cell_type": "markdown",
   "metadata": {},
   "source": [
    "# Bayesian Learning"
   ]
  },
  {
   "cell_type": "markdown",
   "metadata": {},
   "source": [
    "## Importing libraries"
   ]
  },
  {
   "cell_type": "code",
   "execution_count": 1,
   "metadata": {},
   "outputs": [],
   "source": [
    "import numpy as np\n",
    "import pandas as pd\n",
    "import random\n",
    "\n",
    "from sklearn.naive_bayes import GaussianNB\n",
    "from sklearn.metrics import accuracy_score\n",
    "from sklearn.preprocessing import LabelEncoder\n",
    "from statistics import mean \n",
    "\n",
    "import matplotlib.pyplot as plt\n",
    "from sklearn.decomposition import PCA\n",
    "from sklearn.preprocessing import StandardScaler,MinMaxScaler\n",
    "%matplotlib inline"
   ]
  },
  {
   "cell_type": "markdown",
   "metadata": {},
   "source": [
    "## 1. Divide into training set and test set"
   ]
  },
  {
   "cell_type": "code",
   "execution_count": 2,
   "metadata": {},
   "outputs": [],
   "source": [
    "df = pd.read_csv('Train_F.csv')"
   ]
  },
  {
   "cell_type": "code",
   "execution_count": 3,
   "metadata": {},
   "outputs": [],
   "source": [
    "def train_test_split(df, test_size):\n",
    "    \n",
    "    if isinstance(test_size, float):\n",
    "        test_size = round(test_size * len(df))\n",
    "\n",
    "    indices = df.index.tolist()\n",
    "    test_indices = random.sample(population=indices, k=test_size)\n",
    "\n",
    "    test_df = df.loc[test_indices]\n",
    "    train_df = df.drop(test_indices)\n",
    "    \n",
    "    return train_df, test_df"
   ]
  },
  {
   "cell_type": "code",
   "execution_count": 4,
   "metadata": {},
   "outputs": [
    {
     "data": {
      "text/html": [
       "<div>\n",
       "<style scoped>\n",
       "    .dataframe tbody tr th:only-of-type {\n",
       "        vertical-align: middle;\n",
       "    }\n",
       "\n",
       "    .dataframe tbody tr th {\n",
       "        vertical-align: top;\n",
       "    }\n",
       "\n",
       "    .dataframe thead th {\n",
       "        text-align: right;\n",
       "    }\n",
       "</style>\n",
       "<table border=\"1\" class=\"dataframe\">\n",
       "  <thead>\n",
       "    <tr style=\"text-align: right;\">\n",
       "      <th></th>\n",
       "      <th>countyfips</th>\n",
       "      <th>countyname</th>\n",
       "      <th>statename</th>\n",
       "      <th>predicted_deaths_by_october_06</th>\n",
       "      <th>predicted_deaths_by_october_07</th>\n",
       "      <th>predicted_deaths_by_october_08</th>\n",
       "      <th>predicted_deaths_by_october_09</th>\n",
       "      <th>predicted_deaths_by_october_10</th>\n",
       "      <th>predicted_deaths_by_october_11</th>\n",
       "      <th>predicted_deaths_by_october_12</th>\n",
       "      <th>severity_county_5-day</th>\n",
       "    </tr>\n",
       "  </thead>\n",
       "  <tbody>\n",
       "    <tr>\n",
       "      <th>0</th>\n",
       "      <td>36047</td>\n",
       "      <td>Kings</td>\n",
       "      <td>NY</td>\n",
       "      <td>7348.2</td>\n",
       "      <td>7356.8</td>\n",
       "      <td>7366.0</td>\n",
       "      <td>7375.6</td>\n",
       "      <td>7385.8</td>\n",
       "      <td>7396.5</td>\n",
       "      <td>7407.8</td>\n",
       "      <td>3</td>\n",
       "    </tr>\n",
       "    <tr>\n",
       "      <th>1</th>\n",
       "      <td>36081</td>\n",
       "      <td>Queens</td>\n",
       "      <td>NY</td>\n",
       "      <td>7274.1</td>\n",
       "      <td>7283.5</td>\n",
       "      <td>7293.3</td>\n",
       "      <td>7303.7</td>\n",
       "      <td>7314.6</td>\n",
       "      <td>7326.1</td>\n",
       "      <td>7338.2</td>\n",
       "      <td>3</td>\n",
       "    </tr>\n",
       "    <tr>\n",
       "      <th>2</th>\n",
       "      <td>6037</td>\n",
       "      <td>Los Angeles</td>\n",
       "      <td>CA</td>\n",
       "      <td>6667.5</td>\n",
       "      <td>6679.6</td>\n",
       "      <td>6691.9</td>\n",
       "      <td>6704.5</td>\n",
       "      <td>6717.4</td>\n",
       "      <td>6730.6</td>\n",
       "      <td>6744.3</td>\n",
       "      <td>3</td>\n",
       "    </tr>\n",
       "    <tr>\n",
       "      <th>3</th>\n",
       "      <td>17031</td>\n",
       "      <td>Cook</td>\n",
       "      <td>IL</td>\n",
       "      <td>5273.9</td>\n",
       "      <td>5287.0</td>\n",
       "      <td>5300.5</td>\n",
       "      <td>5314.3</td>\n",
       "      <td>5328.6</td>\n",
       "      <td>5343.3</td>\n",
       "      <td>5358.5</td>\n",
       "      <td>3</td>\n",
       "    </tr>\n",
       "    <tr>\n",
       "      <th>4</th>\n",
       "      <td>36005</td>\n",
       "      <td>Bronx</td>\n",
       "      <td>NY</td>\n",
       "      <td>4970.3</td>\n",
       "      <td>4982.1</td>\n",
       "      <td>4994.5</td>\n",
       "      <td>5007.4</td>\n",
       "      <td>5021.1</td>\n",
       "      <td>5035.3</td>\n",
       "      <td>5050.2</td>\n",
       "      <td>3</td>\n",
       "    </tr>\n",
       "  </tbody>\n",
       "</table>\n",
       "</div>"
      ],
      "text/plain": [
       "   countyfips   countyname statename  predicted_deaths_by_october_06  \\\n",
       "0       36047        Kings        NY                          7348.2   \n",
       "1       36081       Queens        NY                          7274.1   \n",
       "2        6037  Los Angeles        CA                          6667.5   \n",
       "3       17031         Cook        IL                          5273.9   \n",
       "4       36005        Bronx        NY                          4970.3   \n",
       "\n",
       "   predicted_deaths_by_october_07  predicted_deaths_by_october_08  \\\n",
       "0                          7356.8                          7366.0   \n",
       "1                          7283.5                          7293.3   \n",
       "2                          6679.6                          6691.9   \n",
       "3                          5287.0                          5300.5   \n",
       "4                          4982.1                          4994.5   \n",
       "\n",
       "   predicted_deaths_by_october_09  predicted_deaths_by_october_10  \\\n",
       "0                          7375.6                          7385.8   \n",
       "1                          7303.7                          7314.6   \n",
       "2                          6704.5                          6717.4   \n",
       "3                          5314.3                          5328.6   \n",
       "4                          5007.4                          5021.1   \n",
       "\n",
       "   predicted_deaths_by_october_11  predicted_deaths_by_october_12  \\\n",
       "0                          7396.5                          7407.8   \n",
       "1                          7326.1                          7338.2   \n",
       "2                          6730.6                          6744.3   \n",
       "3                          5343.3                          5358.5   \n",
       "4                          5035.3                          5050.2   \n",
       "\n",
       "   severity_county_5-day  \n",
       "0                      3  \n",
       "1                      3  \n",
       "2                      3  \n",
       "3                      3  \n",
       "4                      3  "
      ]
     },
     "execution_count": 4,
     "metadata": {},
     "output_type": "execute_result"
    }
   ],
   "source": [
    "df.head()"
   ]
  },
  {
   "cell_type": "code",
   "execution_count": 5,
   "metadata": {},
   "outputs": [],
   "source": [
    "df['severity_county_5-day'] = df['severity_county_5-day'].replace([1],0)\n",
    "df['severity_county_5-day'] = df['severity_county_5-day'].replace([2],1)\n",
    "df['severity_county_5-day'] = df['severity_county_5-day'].replace([3],2)"
   ]
  },
  {
   "cell_type": "code",
   "execution_count": 6,
   "metadata": {},
   "outputs": [
    {
     "data": {
      "text/html": [
       "<div>\n",
       "<style scoped>\n",
       "    .dataframe tbody tr th:only-of-type {\n",
       "        vertical-align: middle;\n",
       "    }\n",
       "\n",
       "    .dataframe tbody tr th {\n",
       "        vertical-align: top;\n",
       "    }\n",
       "\n",
       "    .dataframe thead th {\n",
       "        text-align: right;\n",
       "    }\n",
       "</style>\n",
       "<table border=\"1\" class=\"dataframe\">\n",
       "  <thead>\n",
       "    <tr style=\"text-align: right;\">\n",
       "      <th></th>\n",
       "      <th>countyfips</th>\n",
       "      <th>countyname</th>\n",
       "      <th>statename</th>\n",
       "      <th>predicted_deaths_by_october_06</th>\n",
       "      <th>predicted_deaths_by_october_07</th>\n",
       "      <th>predicted_deaths_by_october_08</th>\n",
       "      <th>predicted_deaths_by_october_09</th>\n",
       "      <th>predicted_deaths_by_october_10</th>\n",
       "      <th>predicted_deaths_by_october_11</th>\n",
       "      <th>predicted_deaths_by_october_12</th>\n",
       "      <th>severity_county_5-day</th>\n",
       "    </tr>\n",
       "  </thead>\n",
       "  <tbody>\n",
       "    <tr>\n",
       "      <th>0</th>\n",
       "      <td>36047</td>\n",
       "      <td>Kings</td>\n",
       "      <td>NY</td>\n",
       "      <td>7348.2</td>\n",
       "      <td>7356.8</td>\n",
       "      <td>7366.0</td>\n",
       "      <td>7375.6</td>\n",
       "      <td>7385.8</td>\n",
       "      <td>7396.5</td>\n",
       "      <td>7407.8</td>\n",
       "      <td>2</td>\n",
       "    </tr>\n",
       "    <tr>\n",
       "      <th>1</th>\n",
       "      <td>36081</td>\n",
       "      <td>Queens</td>\n",
       "      <td>NY</td>\n",
       "      <td>7274.1</td>\n",
       "      <td>7283.5</td>\n",
       "      <td>7293.3</td>\n",
       "      <td>7303.7</td>\n",
       "      <td>7314.6</td>\n",
       "      <td>7326.1</td>\n",
       "      <td>7338.2</td>\n",
       "      <td>2</td>\n",
       "    </tr>\n",
       "    <tr>\n",
       "      <th>2</th>\n",
       "      <td>6037</td>\n",
       "      <td>Los Angeles</td>\n",
       "      <td>CA</td>\n",
       "      <td>6667.5</td>\n",
       "      <td>6679.6</td>\n",
       "      <td>6691.9</td>\n",
       "      <td>6704.5</td>\n",
       "      <td>6717.4</td>\n",
       "      <td>6730.6</td>\n",
       "      <td>6744.3</td>\n",
       "      <td>2</td>\n",
       "    </tr>\n",
       "    <tr>\n",
       "      <th>3</th>\n",
       "      <td>17031</td>\n",
       "      <td>Cook</td>\n",
       "      <td>IL</td>\n",
       "      <td>5273.9</td>\n",
       "      <td>5287.0</td>\n",
       "      <td>5300.5</td>\n",
       "      <td>5314.3</td>\n",
       "      <td>5328.6</td>\n",
       "      <td>5343.3</td>\n",
       "      <td>5358.5</td>\n",
       "      <td>2</td>\n",
       "    </tr>\n",
       "    <tr>\n",
       "      <th>4</th>\n",
       "      <td>36005</td>\n",
       "      <td>Bronx</td>\n",
       "      <td>NY</td>\n",
       "      <td>4970.3</td>\n",
       "      <td>4982.1</td>\n",
       "      <td>4994.5</td>\n",
       "      <td>5007.4</td>\n",
       "      <td>5021.1</td>\n",
       "      <td>5035.3</td>\n",
       "      <td>5050.2</td>\n",
       "      <td>2</td>\n",
       "    </tr>\n",
       "  </tbody>\n",
       "</table>\n",
       "</div>"
      ],
      "text/plain": [
       "   countyfips   countyname statename  predicted_deaths_by_october_06  \\\n",
       "0       36047        Kings        NY                          7348.2   \n",
       "1       36081       Queens        NY                          7274.1   \n",
       "2        6037  Los Angeles        CA                          6667.5   \n",
       "3       17031         Cook        IL                          5273.9   \n",
       "4       36005        Bronx        NY                          4970.3   \n",
       "\n",
       "   predicted_deaths_by_october_07  predicted_deaths_by_october_08  \\\n",
       "0                          7356.8                          7366.0   \n",
       "1                          7283.5                          7293.3   \n",
       "2                          6679.6                          6691.9   \n",
       "3                          5287.0                          5300.5   \n",
       "4                          4982.1                          4994.5   \n",
       "\n",
       "   predicted_deaths_by_october_09  predicted_deaths_by_october_10  \\\n",
       "0                          7375.6                          7385.8   \n",
       "1                          7303.7                          7314.6   \n",
       "2                          6704.5                          6717.4   \n",
       "3                          5314.3                          5328.6   \n",
       "4                          5007.4                          5021.1   \n",
       "\n",
       "   predicted_deaths_by_october_11  predicted_deaths_by_october_12  \\\n",
       "0                          7396.5                          7407.8   \n",
       "1                          7326.1                          7338.2   \n",
       "2                          6730.6                          6744.3   \n",
       "3                          5343.3                          5358.5   \n",
       "4                          5035.3                          5050.2   \n",
       "\n",
       "   severity_county_5-day  \n",
       "0                      2  \n",
       "1                      2  \n",
       "2                      2  \n",
       "3                      2  \n",
       "4                      2  "
      ]
     },
     "execution_count": 6,
     "metadata": {},
     "output_type": "execute_result"
    }
   ],
   "source": [
    "df.head()"
   ]
  },
  {
   "cell_type": "code",
   "execution_count": 7,
   "metadata": {},
   "outputs": [],
   "source": [
    "train_df, test_df = train_test_split(df, 0.2)\n",
    "X_train_df = train_df.iloc[:,:-1]\n",
    "y_train_df = train_df.iloc[:, -1]\n",
    "X_test_df = test_df.iloc[:,:-1]\n",
    "y_test_df = test_df.iloc[:, -1]"
   ]
  },
  {
   "cell_type": "markdown",
   "metadata": {},
   "source": [
    "### 1.1 Handle Missing Values"
   ]
  },
  {
   "cell_type": "code",
   "execution_count": 8,
   "metadata": {},
   "outputs": [
    {
     "name": "stdout",
     "output_type": "stream",
     "text": [
      "<class 'pandas.core.frame.DataFrame'>\n",
      "RangeIndex: 3142 entries, 0 to 3141\n",
      "Data columns (total 11 columns):\n",
      " #   Column                          Non-Null Count  Dtype  \n",
      "---  ------                          --------------  -----  \n",
      " 0   countyfips                      3142 non-null   int64  \n",
      " 1   countyname                      3142 non-null   object \n",
      " 2   statename                       3142 non-null   object \n",
      " 3   predicted_deaths_by_october_06  3142 non-null   float64\n",
      " 4   predicted_deaths_by_october_07  3142 non-null   float64\n",
      " 5   predicted_deaths_by_october_08  3142 non-null   float64\n",
      " 6   predicted_deaths_by_october_09  3142 non-null   float64\n",
      " 7   predicted_deaths_by_october_10  3142 non-null   float64\n",
      " 8   predicted_deaths_by_october_11  3142 non-null   float64\n",
      " 9   predicted_deaths_by_october_12  3142 non-null   float64\n",
      " 10  severity_county_5-day           3142 non-null   int64  \n",
      "dtypes: float64(7), int64(2), object(2)\n",
      "memory usage: 270.1+ KB\n"
     ]
    }
   ],
   "source": [
    "df = df.replace('?',np.nan)\n",
    "df.info()"
   ]
  },
  {
   "cell_type": "markdown",
   "metadata": {},
   "source": [
    "Clearly, there are no missing values in any columns"
   ]
  },
  {
   "cell_type": "markdown",
   "metadata": {},
   "source": [
    "### 1.2 Encoding Categorical Data"
   ]
  },
  {
   "cell_type": "markdown",
   "metadata": {},
   "source": [
    "Adding new columns containing numerical labels instead of categorical data."
   ]
  },
  {
   "cell_type": "code",
   "execution_count": 9,
   "metadata": {},
   "outputs": [],
   "source": [
    "labelencoder = LabelEncoder()\n",
    "\n",
    "X_train_df['countyname_cat'] = labelencoder.fit_transform(X_train_df['countyname'])\n",
    "X_train_df['statename_cat'] = labelencoder.fit_transform(X_train_df['statename'])\n",
    "X_test_df['countyname_cat'] = labelencoder.fit_transform(X_test_df['countyname'])\n",
    "X_test_df['statename_cat'] = labelencoder.fit_transform(X_test_df['statename'])\n",
    "\n",
    "X_train_df = X_train_df.drop(['countyname','statename'], axis = 1) \n",
    "X_test_df = X_test_df.drop(['countyname','statename'],axis = 1)"
   ]
  },
  {
   "cell_type": "code",
   "execution_count": 10,
   "metadata": {},
   "outputs": [
    {
     "name": "stdout",
     "output_type": "stream",
     "text": [
      "(2514, 10) (628, 10)\n",
      "(2514, 11) (628, 11)\n"
     ]
    },
    {
     "data": {
      "text/html": [
       "<div>\n",
       "<style scoped>\n",
       "    .dataframe tbody tr th:only-of-type {\n",
       "        vertical-align: middle;\n",
       "    }\n",
       "\n",
       "    .dataframe tbody tr th {\n",
       "        vertical-align: top;\n",
       "    }\n",
       "\n",
       "    .dataframe thead th {\n",
       "        text-align: right;\n",
       "    }\n",
       "</style>\n",
       "<table border=\"1\" class=\"dataframe\">\n",
       "  <thead>\n",
       "    <tr style=\"text-align: right;\">\n",
       "      <th></th>\n",
       "      <th>countyfips</th>\n",
       "      <th>predicted_deaths_by_october_06</th>\n",
       "      <th>predicted_deaths_by_october_07</th>\n",
       "      <th>predicted_deaths_by_october_08</th>\n",
       "      <th>predicted_deaths_by_october_09</th>\n",
       "      <th>predicted_deaths_by_october_10</th>\n",
       "      <th>predicted_deaths_by_october_11</th>\n",
       "      <th>predicted_deaths_by_october_12</th>\n",
       "      <th>countyname_cat</th>\n",
       "      <th>statename_cat</th>\n",
       "      <th>severity_county_5-day</th>\n",
       "    </tr>\n",
       "  </thead>\n",
       "  <tbody>\n",
       "    <tr>\n",
       "      <th>2027</th>\n",
       "      <td>20061</td>\n",
       "      <td>3.4</td>\n",
       "      <td>3.7</td>\n",
       "      <td>4.1</td>\n",
       "      <td>4.5</td>\n",
       "      <td>5.0</td>\n",
       "      <td>5.4</td>\n",
       "      <td>5.8</td>\n",
       "      <td>174</td>\n",
       "      <td>13</td>\n",
       "      <td>2</td>\n",
       "    </tr>\n",
       "    <tr>\n",
       "      <th>2361</th>\n",
       "      <td>19023</td>\n",
       "      <td>2.3</td>\n",
       "      <td>2.5</td>\n",
       "      <td>2.8</td>\n",
       "      <td>3.0</td>\n",
       "      <td>3.2</td>\n",
       "      <td>3.4</td>\n",
       "      <td>3.7</td>\n",
       "      <td>63</td>\n",
       "      <td>9</td>\n",
       "      <td>0</td>\n",
       "    </tr>\n",
       "    <tr>\n",
       "      <th>2470</th>\n",
       "      <td>25019</td>\n",
       "      <td>1.3</td>\n",
       "      <td>1.5</td>\n",
       "      <td>1.8</td>\n",
       "      <td>2.1</td>\n",
       "      <td>2.4</td>\n",
       "      <td>2.7</td>\n",
       "      <td>3.1</td>\n",
       "      <td>321</td>\n",
       "      <td>16</td>\n",
       "      <td>0</td>\n",
       "    </tr>\n",
       "    <tr>\n",
       "      <th>2596</th>\n",
       "      <td>46087</td>\n",
       "      <td>1.3</td>\n",
       "      <td>1.5</td>\n",
       "      <td>1.8</td>\n",
       "      <td>2.0</td>\n",
       "      <td>2.3</td>\n",
       "      <td>2.6</td>\n",
       "      <td>2.9</td>\n",
       "      <td>292</td>\n",
       "      <td>37</td>\n",
       "      <td>0</td>\n",
       "    </tr>\n",
       "    <tr>\n",
       "      <th>1933</th>\n",
       "      <td>27165</td>\n",
       "      <td>4.3</td>\n",
       "      <td>4.6</td>\n",
       "      <td>4.9</td>\n",
       "      <td>5.2</td>\n",
       "      <td>5.5</td>\n",
       "      <td>5.8</td>\n",
       "      <td>6.2</td>\n",
       "      <td>477</td>\n",
       "      <td>20</td>\n",
       "      <td>1</td>\n",
       "    </tr>\n",
       "  </tbody>\n",
       "</table>\n",
       "</div>"
      ],
      "text/plain": [
       "      countyfips  predicted_deaths_by_october_06  \\\n",
       "2027       20061                             3.4   \n",
       "2361       19023                             2.3   \n",
       "2470       25019                             1.3   \n",
       "2596       46087                             1.3   \n",
       "1933       27165                             4.3   \n",
       "\n",
       "      predicted_deaths_by_october_07  predicted_deaths_by_october_08  \\\n",
       "2027                             3.7                             4.1   \n",
       "2361                             2.5                             2.8   \n",
       "2470                             1.5                             1.8   \n",
       "2596                             1.5                             1.8   \n",
       "1933                             4.6                             4.9   \n",
       "\n",
       "      predicted_deaths_by_october_09  predicted_deaths_by_october_10  \\\n",
       "2027                             4.5                             5.0   \n",
       "2361                             3.0                             3.2   \n",
       "2470                             2.1                             2.4   \n",
       "2596                             2.0                             2.3   \n",
       "1933                             5.2                             5.5   \n",
       "\n",
       "      predicted_deaths_by_october_11  predicted_deaths_by_october_12  \\\n",
       "2027                             5.4                             5.8   \n",
       "2361                             3.4                             3.7   \n",
       "2470                             2.7                             3.1   \n",
       "2596                             2.6                             2.9   \n",
       "1933                             5.8                             6.2   \n",
       "\n",
       "      countyname_cat  statename_cat  severity_county_5-day  \n",
       "2027             174             13                      2  \n",
       "2361              63              9                      0  \n",
       "2470             321             16                      0  \n",
       "2596             292             37                      0  \n",
       "1933             477             20                      1  "
      ]
     },
     "execution_count": 10,
     "metadata": {},
     "output_type": "execute_result"
    }
   ],
   "source": [
    "print(X_train_df.shape,X_test_df.shape)\n",
    "new_train_df = pd.concat([X_train_df, y_train_df], axis=1)\n",
    "new_test_df = pd.concat([X_test_df, y_test_df],axis = 1)\n",
    "print(new_train_df.shape,new_test_df.shape)\n",
    "new_test_df.head()"
   ]
  },
  {
   "cell_type": "code",
   "execution_count": 11,
   "metadata": {},
   "outputs": [],
   "source": [
    "new_X_train_df = new_train_df.iloc[:,:-1]\n",
    "new_y_train_df = new_train_df.iloc[:, -1]\n",
    "new_X_test_df = new_test_df.iloc[:,:-1]\n",
    "new_y_test_df = new_test_df.iloc[:, -1]"
   ]
  },
  {
   "cell_type": "markdown",
   "metadata": {},
   "source": [
    "### 1.3 Naive Bayes Classifier "
   ]
  },
  {
   "cell_type": "markdown",
   "metadata": {},
   "source": [
    "Splitting the train dataframe into 5 equals parts randomly for 5 fold cross-validation"
   ]
  },
  {
   "cell_type": "code",
   "execution_count": 12,
   "metadata": {},
   "outputs": [],
   "source": [
    "_,fold1_df = train_test_split(new_train_df, 0.2)\n",
    "_,__ = train_test_split(_,0.5)\n",
    "fold2_df,fold3_df = train_test_split(_,0.5)\n",
    "fold4_df,fold5_df = train_test_split(__,0.5)"
   ]
  },
  {
   "cell_type": "code",
   "execution_count": 13,
   "metadata": {},
   "outputs": [
    {
     "data": {
      "text/plain": [
       "((503, 11), (503, 11), (502, 11), (503, 11), (503, 11))"
      ]
     },
     "execution_count": 13,
     "metadata": {},
     "output_type": "execute_result"
    }
   ],
   "source": [
    "fold1_df.shape,fold2_df.shape,fold3_df.shape,fold4_df.shape,fold5_df.shape"
   ]
  },
  {
   "cell_type": "code",
   "execution_count": 14,
   "metadata": {},
   "outputs": [],
   "source": [
    "frames = [fold2_df,fold3_df,fold4_df,fold5_df]\n",
    "train1_df = pd.concat(frames)\n",
    "\n",
    "frames = [fold1_df,fold3_df,fold4_df,fold5_df]\n",
    "train2_df = pd.concat(frames)\n",
    "\n",
    "frames = [fold1_df,fold2_df,fold4_df,fold5_df]\n",
    "train3_df = pd.concat(frames)\n",
    "\n",
    "frames = [fold1_df,fold2_df,fold3_df,fold5_df]\n",
    "train4_df = pd.concat(frames)\n",
    "\n",
    "frames = [fold1_df,fold2_df,fold3_df,fold4_df]\n",
    "train5_df = pd.concat(frames)"
   ]
  },
  {
   "cell_type": "code",
   "execution_count": 15,
   "metadata": {},
   "outputs": [
    {
     "data": {
      "text/plain": [
       "((2011, 11), (2011, 11), (2012, 11), (2011, 11), (2011, 11))"
      ]
     },
     "execution_count": 15,
     "metadata": {},
     "output_type": "execute_result"
    }
   ],
   "source": [
    "train1_df.shape,train2_df.shape,train3_df.shape,train4_df.shape,train5_df.shape,"
   ]
  },
  {
   "cell_type": "code",
   "execution_count": 16,
   "metadata": {},
   "outputs": [],
   "source": [
    "X_train1_df = train1_df.iloc[:,:-1]\n",
    "y_train1_df = train1_df.iloc[:, -1]\n",
    "X_test1_df = fold1_df.iloc[:,:-1]\n",
    "y_test1_df = fold1_df.iloc[:, -1]\n",
    "\n",
    "X_train2_df = train2_df.iloc[:,:-1]\n",
    "y_train2_df = train2_df.iloc[:, -1]\n",
    "X_test2_df = fold2_df.iloc[:,:-1]\n",
    "y_test2_df = fold2_df.iloc[:, -1]\n",
    "\n",
    "X_train3_df = train3_df.iloc[:,:-1]\n",
    "y_train3_df = train3_df.iloc[:, -1]\n",
    "X_test3_df = fold3_df.iloc[:,:-1]\n",
    "y_test3_df = fold3_df.iloc[:, -1]\n",
    "\n",
    "X_train4_df = train4_df.iloc[:,:-1]\n",
    "y_train4_df = train4_df.iloc[:, -1]\n",
    "X_test4_df = fold4_df.iloc[:,:-1]\n",
    "y_test4_df = fold4_df.iloc[:, -1]\n",
    "\n",
    "X_train5_df = train5_df.iloc[:,:-1]\n",
    "y_train5_df = train5_df.iloc[:, -1]\n",
    "X_test5_df = fold5_df.iloc[:,:-1]\n",
    "y_test5_df = fold5_df.iloc[:, -1]"
   ]
  },
  {
   "cell_type": "code",
   "execution_count": 17,
   "metadata": {},
   "outputs": [],
   "source": [
    "X_train_dfs = [X_train1_df,X_train2_df,X_train3_df,X_train4_df,X_train5_df]"
   ]
  },
  {
   "cell_type": "code",
   "execution_count": 18,
   "metadata": {},
   "outputs": [],
   "source": [
    "y_train_dfs = [y_train1_df,y_train2_df,y_train3_df,y_train4_df,y_train5_df]"
   ]
  },
  {
   "cell_type": "code",
   "execution_count": 19,
   "metadata": {},
   "outputs": [],
   "source": [
    "X_test_dfs = [X_test1_df,X_test2_df,X_test3_df,X_test4_df,X_test5_df]"
   ]
  },
  {
   "cell_type": "code",
   "execution_count": 20,
   "metadata": {},
   "outputs": [],
   "source": [
    "y_test_dfs = [y_test1_df,y_test2_df,y_test3_df,y_test4_df,y_test5_df]"
   ]
  },
  {
   "cell_type": "code",
   "execution_count": null,
   "metadata": {},
   "outputs": [],
   "source": []
  },
  {
   "cell_type": "code",
   "execution_count": 21,
   "metadata": {},
   "outputs": [],
   "source": [
    "def get_params(X_train, y_train): \n",
    "    \"\"\"\n",
    "    Function to get the unique classes, number of classes and number of features in training data\n",
    "    \"\"\"\n",
    "    num_examples, num_features = X_train.shape\n",
    "    num_classes = len(np.unique(y_train))\n",
    "    return num_examples, num_features, num_classes"
   ]
  },
  {
   "cell_type": "code",
   "execution_count": 22,
   "metadata": {},
   "outputs": [
    {
     "name": "stdout",
     "output_type": "stream",
     "text": [
      "2514 10 3\n"
     ]
    }
   ],
   "source": [
    "num_examples, num_features, num_classes = get_params(new_X_train_df, new_y_train_df)\n",
    "print(num_examples, num_features, num_classes)"
   ]
  },
  {
   "cell_type": "code",
   "execution_count": 23,
   "metadata": {},
   "outputs": [],
   "source": [
    "def get_stats_by_class(X_train, y_train, num_examples=num_examples, num_classes=num_classes): \n",
    "    \"\"\"\n",
    "    Get stats of dataset by the class\n",
    "    \"\"\"\n",
    "    # dictionaries to store stats\n",
    "    class_mean = {}\n",
    "    class_var = {} \n",
    "    class_prior = {} \n",
    "    \n",
    "    # loop through each class and get mean, variance and prior by class\n",
    "    for cls in range(num_classes): \n",
    "        X_cls = X_train[y_train == cls]\n",
    "        class_mean[str(cls)] = np.mean(X_cls, axis=0)\n",
    "        class_var[str(cls)] = np.var(X_cls, axis=0)\n",
    "        class_prior[str(cls)] = X_cls.shape[0] / num_examples\n",
    "    return class_mean, class_var, class_prior"
   ]
  },
  {
   "cell_type": "code",
   "execution_count": 24,
   "metadata": {},
   "outputs": [
    {
     "name": "stdout",
     "output_type": "stream",
     "text": [
      "mean: {'0': countyfips                        29758.515535\n",
      "predicted_deaths_by_october_06        5.999540\n",
      "predicted_deaths_by_october_07        6.160299\n",
      "predicted_deaths_by_october_08        6.313119\n",
      "predicted_deaths_by_october_09        6.467779\n",
      "predicted_deaths_by_october_10        6.629229\n",
      "predicted_deaths_by_october_11        6.796778\n",
      "predicted_deaths_by_october_12        6.970656\n",
      "countyname_cat                      787.649022\n",
      "statename_cat                        25.538550\n",
      "dtype: float64, '1': countyfips                        31676.261671\n",
      "predicted_deaths_by_october_06       36.498649\n",
      "predicted_deaths_by_october_07       36.693857\n",
      "predicted_deaths_by_october_08       36.894472\n",
      "predicted_deaths_by_october_09       37.097420\n",
      "predicted_deaths_by_october_10       37.301843\n",
      "predicted_deaths_by_october_11       37.507125\n",
      "predicted_deaths_by_october_12       37.720762\n",
      "countyname_cat                      779.702703\n",
      "statename_cat                        27.191646\n",
      "dtype: float64, '2': countyfips                        29716.518652\n",
      "predicted_deaths_by_october_06      163.064862\n",
      "predicted_deaths_by_october_07      163.861613\n",
      "predicted_deaths_by_october_08      164.657280\n",
      "predicted_deaths_by_october_09      165.457040\n",
      "predicted_deaths_by_october_10      166.261733\n",
      "predicted_deaths_by_october_11      167.067148\n",
      "predicted_deaths_by_october_12      167.883394\n",
      "countyname_cat                      775.013237\n",
      "statename_cat                        25.361011\n",
      "dtype: float64}\n",
      "\n",
      "variance: {'0': countyfips                        2.143453e+08\n",
      "predicted_deaths_by_october_06    9.537231e+01\n",
      "predicted_deaths_by_october_07    9.411425e+01\n",
      "predicted_deaths_by_october_08    9.293320e+01\n",
      "predicted_deaths_by_october_09    9.171259e+01\n",
      "predicted_deaths_by_october_10    9.040205e+01\n",
      "predicted_deaths_by_october_11    8.899790e+01\n",
      "predicted_deaths_by_october_12    8.751160e+01\n",
      "countyname_cat                    1.885335e+05\n",
      "statename_cat                     1.901127e+02\n",
      "dtype: float64, '1': countyfips                        2.320045e+08\n",
      "predicted_deaths_by_october_06    8.850499e+03\n",
      "predicted_deaths_by_october_07    8.839634e+03\n",
      "predicted_deaths_by_october_08    8.828218e+03\n",
      "predicted_deaths_by_october_09    8.816437e+03\n",
      "predicted_deaths_by_october_10    8.804591e+03\n",
      "predicted_deaths_by_october_11    8.792566e+03\n",
      "predicted_deaths_by_october_12    8.780061e+03\n",
      "countyname_cat                    1.983053e+05\n",
      "statename_cat                     2.022114e+02\n",
      "dtype: float64, '2': countyfips                        2.349092e+08\n",
      "predicted_deaths_by_october_06    3.488017e+05\n",
      "predicted_deaths_by_october_07    3.503675e+05\n",
      "predicted_deaths_by_october_08    3.519777e+05\n",
      "predicted_deaths_by_october_09    3.536330e+05\n",
      "predicted_deaths_by_october_10    3.553382e+05\n",
      "predicted_deaths_by_october_11    3.570945e+05\n",
      "predicted_deaths_by_october_12    3.589076e+05\n",
      "countyname_cat                    1.793271e+05\n",
      "statename_cat                     2.067433e+02\n",
      "dtype: float64}\n",
      "\n",
      "priors: {'0': 0.3456642800318218, '1': 0.3237867939538584, '2': 0.3305489260143198}\n"
     ]
    }
   ],
   "source": [
    "cm, var, cp = get_stats_by_class(new_X_train_df, new_y_train_df)\n",
    "print(f\"mean: {cm}\\n\\nvariance: {var}\\n\\npriors: {cp}\")"
   ]
  },
  {
   "cell_type": "code",
   "execution_count": 25,
   "metadata": {},
   "outputs": [],
   "source": [
    "def gaussian_density_function(X, mean, std, num_examples=num_examples, num_features=num_features, eps=1e-6): \n",
    "    num_examples, num_features = X.shape\n",
    "    const = -num_features/2 * np.log(2*np.pi) - 0.5 * np.sum(np.log(std + eps))\n",
    "    probs = 0.5 * np.sum(np.power(X - mean, 2)/(std + eps), 1)\n",
    "    return const - probs"
   ]
  },
  {
   "cell_type": "code",
   "execution_count": 26,
   "metadata": {},
   "outputs": [
    {
     "data": {
      "text/plain": [
       "0      -2.078093e+06\n",
       "1      -2.037784e+06\n",
       "2      -1.716774e+06\n",
       "3      -1.078356e+06\n",
       "4      -9.574539e+05\n",
       "            ...     \n",
       "3136   -4.814617e+01\n",
       "3137   -4.519264e+01\n",
       "3138   -4.584250e+01\n",
       "3139   -4.633950e+01\n",
       "3140   -4.675585e+01\n",
       "Length: 2514, dtype: float64"
      ]
     },
     "execution_count": 26,
     "metadata": {},
     "output_type": "execute_result"
    }
   ],
   "source": [
    "gaussian_density_function(new_X_train_df, cm[str(0)], var[str(0)])"
   ]
  },
  {
   "cell_type": "code",
   "execution_count": 27,
   "metadata": {},
   "outputs": [],
   "source": [
    "def class_probabilities(X, class_mean, class_var, class_prior, num_classes=num_classes):\n",
    "    \"\"\"\n",
    "    calculate the probability of each class given the data\n",
    "    \"\"\"\n",
    "    num_examples = X.shape[0]\n",
    "    probs = np.zeros((num_examples, num_classes))\n",
    "\n",
    "    for cls in range(num_classes): \n",
    "        prior = class_prior[str(cls)]\n",
    "        probs_cls = gaussian_density_function(X, class_mean[str(cls)], class_var[str(cls)])\n",
    "        probs[:, cls] = probs_cls + np.log(prior)\n",
    "    return probs"
   ]
  },
  {
   "cell_type": "code",
   "execution_count": 28,
   "metadata": {},
   "outputs": [
    {
     "data": {
      "text/plain": [
       "array([[-2.07809432e+06, -2.14476556e+04, -5.88187556e+02],\n",
       "       [-2.03778478e+06, -2.10311539e+04, -5.78358531e+02],\n",
       "       [-1.71677532e+06, -1.77157895e+04, -4.98842621e+02],\n",
       "       ...,\n",
       "       [-4.69047891e+01, -6.22859360e+01, -7.50791167e+01],\n",
       "       [-4.74017839e+01, -6.28785556e+01, -7.54824091e+01],\n",
       "       [-4.78181413e+01, -6.28173840e+01, -7.57549310e+01]])"
      ]
     },
     "execution_count": 28,
     "metadata": {},
     "output_type": "execute_result"
    }
   ],
   "source": [
    "probs = class_probabilities(new_X_train_df, cm, var, cp)\n",
    "probs"
   ]
  },
  {
   "cell_type": "code",
   "execution_count": 29,
   "metadata": {},
   "outputs": [],
   "source": [
    "def predict(X_test, X_train, y_train): \n",
    "    num_examples, num_features, num_classes = get_params(X_test, y_train)\n",
    "    class_mean, class_std, class_prior = get_stats_by_class(X_train, y_train)\n",
    "    probs = class_probabilities(X_test, class_mean, class_std, class_prior)\n",
    "    return np.argmax(probs, 1)"
   ]
  },
  {
   "cell_type": "code",
   "execution_count": 30,
   "metadata": {},
   "outputs": [],
   "source": [
    "my_preds = predict(new_X_test_df, new_X_train_df, new_y_train_df)"
   ]
  },
  {
   "cell_type": "code",
   "execution_count": 31,
   "metadata": {},
   "outputs": [
    {
     "data": {
      "text/plain": [
       "array([0, 0, 0, 0, 0, 0, 0, 1, 0, 0, 1, 0, 1, 0, 0, 0, 0, 2, 0, 0, 1, 0,\n",
       "       1, 0, 1, 1, 0, 0, 0, 0, 0, 0, 0, 0, 0, 1, 0, 1, 0, 2, 0, 0, 1, 0,\n",
       "       0, 0, 0, 0, 0, 0, 0, 1, 0, 0, 0, 0, 0, 0, 0, 1, 2, 1, 0, 0, 0, 0,\n",
       "       0, 1, 1, 0, 1, 0, 2, 0, 0, 0, 1, 2, 1, 1, 1, 0, 1, 0, 0, 2, 0, 1,\n",
       "       0, 2, 0, 0, 0, 0, 0, 1, 1, 0, 1, 0, 0, 0, 0, 0, 0, 0, 0, 0, 2, 1,\n",
       "       0, 0, 1, 1, 0, 0, 0, 0, 2, 0, 0, 0, 0, 1, 1, 0, 0, 0, 0, 2, 0, 0,\n",
       "       0, 0, 1, 0, 1, 0, 0, 1, 0, 2, 0, 0, 1, 0, 0, 0, 2, 1, 0, 0, 0, 1,\n",
       "       0, 0, 1, 0, 0, 0, 1, 1, 1, 0, 2, 0, 1, 0, 0, 0, 0, 0, 0, 2, 0, 1,\n",
       "       0, 0, 2, 0, 0, 1, 0, 0, 1, 0, 0, 0, 0, 0, 1, 0, 0, 1, 1, 0, 0, 0,\n",
       "       1, 0, 0, 0, 0, 0, 0, 0, 0, 0, 1, 2, 1, 0, 0, 1, 0, 0, 1, 1, 0, 0,\n",
       "       0, 1, 1, 0, 0, 1, 0, 1, 0, 0, 1, 0, 1, 1, 0, 0, 1, 0, 0, 0, 0, 0,\n",
       "       0, 0, 0, 1, 0, 1, 0, 0, 0, 0, 1, 0, 1, 0, 0, 0, 1, 0, 0, 0, 2, 1,\n",
       "       0, 0, 1, 0, 0, 0, 0, 1, 0, 0, 0, 0, 0, 0, 0, 0, 0, 0, 1, 1, 0, 0,\n",
       "       0, 0, 0, 1, 0, 1, 0, 0, 1, 1, 0, 1, 0, 2, 1, 0, 0, 0, 1, 1, 2, 0,\n",
       "       0, 0, 0, 1, 0, 0, 0, 1, 1, 1, 0, 0, 1, 0, 0, 0, 0, 0, 0, 0, 0, 0,\n",
       "       0, 0, 0, 0, 0, 0, 0, 0, 0, 0, 0, 0, 0, 0, 1, 0, 0, 1, 0, 1, 1, 0,\n",
       "       0, 0, 1, 0, 2, 0, 0, 1, 0, 0, 0, 1, 0, 1, 0, 0, 1, 1, 1, 2, 1, 0,\n",
       "       1, 0, 0, 0, 0, 0, 1, 0, 1, 0, 0, 1, 0, 0, 2, 2, 1, 1, 1, 0, 0, 0,\n",
       "       0, 1, 0, 0, 0, 1, 0, 1, 0, 0, 0, 0, 0, 0, 0, 0, 0, 0, 0, 0, 1, 0,\n",
       "       0, 0, 1, 0, 0, 1, 1, 0, 0, 1, 0, 0, 0, 0, 0, 0, 0, 0, 0, 0, 0, 0,\n",
       "       0, 0, 0, 1, 0, 0, 0, 1, 0, 0, 0, 0, 0, 1, 0, 1, 2, 0, 0, 0, 1, 0,\n",
       "       1, 0, 0, 0, 0, 0, 1, 0, 0, 1, 0, 1, 0, 0, 0, 0, 0, 0, 0, 0, 0, 0,\n",
       "       0, 0, 0, 0, 0, 1, 1, 2, 0, 2, 1, 1, 0, 0, 0, 0, 2, 0, 0, 0, 0, 0,\n",
       "       0, 1, 0, 1, 0, 0, 0, 0, 0, 1, 0, 0, 1, 0, 0, 1, 0, 0, 1, 0, 0, 0,\n",
       "       0, 1, 1, 0, 0, 0, 0, 0, 0, 0, 0, 0, 0, 0, 0, 0, 1, 0, 0, 0, 1, 1,\n",
       "       0, 0, 0, 0, 2, 1, 0, 0, 1, 1, 2, 0, 0, 1, 0, 0, 0, 1, 1, 2, 0, 0,\n",
       "       1, 0, 2, 0, 0, 0, 1, 0, 0, 0, 0, 1, 0, 0, 0, 0, 0, 1, 2, 0, 2, 0,\n",
       "       0, 0, 0, 0, 0, 1, 0, 0, 1, 0, 0, 0, 0, 0, 1, 0, 0, 1, 1, 0, 0, 0,\n",
       "       0, 0, 0, 2, 0, 0, 0, 0, 0, 0, 0, 0])"
      ]
     },
     "execution_count": 31,
     "metadata": {},
     "output_type": "execute_result"
    }
   ],
   "source": [
    "my_preds"
   ]
  },
  {
   "cell_type": "code",
   "execution_count": 32,
   "metadata": {},
   "outputs": [
    {
     "name": "stdout",
     "output_type": "stream",
     "text": [
      "my predictions accuracy:0.47611464968152867\n"
     ]
    }
   ],
   "source": [
    "print(f\"my predictions accuracy:{accuracy_score(new_y_test_df, my_preds)}\")"
   ]
  },
  {
   "cell_type": "code",
   "execution_count": 33,
   "metadata": {},
   "outputs": [],
   "source": [
    "my_preds_acc = []\n",
    "for i in range(5):\n",
    "    my_preds = predict(X_test_dfs[i], X_train_dfs[i], y_train_dfs[i])\n",
    "    my_preds_acc_temp = accuracy_score(y_test_dfs[i], my_preds)\n",
    "    my_preds_acc.append(my_preds_acc_temp);"
   ]
  },
  {
   "cell_type": "code",
   "execution_count": 34,
   "metadata": {},
   "outputs": [
    {
     "data": {
      "text/plain": [
       "[0.4990059642147117,\n",
       " 0.40159045725646125,\n",
       " 0.4262948207171315,\n",
       " 0.4671968190854871,\n",
       " 0.4393638170974155]"
      ]
     },
     "execution_count": 34,
     "metadata": {},
     "output_type": "execute_result"
    }
   ],
   "source": [
    "my_preds_acc"
   ]
  },
  {
   "cell_type": "code",
   "execution_count": 35,
   "metadata": {},
   "outputs": [
    {
     "data": {
      "text/plain": [
       "0.4466903756742414"
      ]
     },
     "execution_count": 35,
     "metadata": {},
     "output_type": "execute_result"
    }
   ],
   "source": [
    "mean(my_preds_acc)"
   ]
  },
  {
   "cell_type": "markdown",
   "metadata": {},
   "source": [
    "## 2. PCA"
   ]
  },
  {
   "cell_type": "markdown",
   "metadata": {},
   "source": [
    "# Outlier Removal"
   ]
  },
  {
   "cell_type": "code",
   "execution_count": 36,
   "metadata": {},
   "outputs": [],
   "source": [
    "from scipy import stats"
   ]
  },
  {
   "cell_type": "code",
   "execution_count": 37,
   "metadata": {},
   "outputs": [],
   "source": [
    "import numpy as np"
   ]
  },
  {
   "cell_type": "code",
   "execution_count": 38,
   "metadata": {},
   "outputs": [],
   "source": [
    "z=np.abs(stats.zscore(new_X_train_df))"
   ]
  },
  {
   "cell_type": "code",
   "execution_count": 42,
   "metadata": {},
   "outputs": [
    {
     "name": "stdout",
     "output_type": "stream",
     "text": [
      "(array([ 0,  0,  0,  0,  0,  0,  0,  1,  1,  1,  1,  1,  1,  1,  2,  2,  2,\n",
      "        2,  2,  2,  2,  3,  3,  3,  3,  3,  3,  3,  4,  4,  4,  4,  4,  4,\n",
      "        4,  5,  5,  5,  5,  5,  5,  5,  6,  6,  6,  6,  6,  6,  6,  7,  7,\n",
      "        7,  7,  7,  7,  7,  8,  8,  8,  8,  8,  8,  8,  9,  9,  9,  9,  9,\n",
      "        9,  9, 10, 10, 10, 10, 10, 10, 10, 11, 11, 11, 11, 11, 11, 11, 12,\n",
      "       12, 12, 12, 12, 12, 12, 13, 13, 13, 13, 13, 13, 13, 14, 14, 14, 14,\n",
      "       14, 14, 14, 15, 15, 15, 15, 15, 15, 15, 16, 16, 16, 16, 16, 16, 16,\n",
      "       17, 17, 17, 17, 17, 17, 17, 18, 18, 18, 18, 18, 18, 18, 19, 19, 19,\n",
      "       19, 19, 19, 19, 20, 20, 20, 20, 20, 20, 20, 21, 21, 21, 21, 21, 21,\n",
      "       21, 22, 22, 22, 22, 22, 22, 22, 23, 23, 23, 23, 23, 23, 23, 24, 24,\n",
      "       24, 24, 24, 24, 24, 25, 25, 25, 25, 25, 25, 25, 26, 26]), array([1, 2, 3, 4, 5, 6, 7, 1, 2, 3, 4, 5, 6, 7, 1, 2, 3, 4, 5, 6, 7, 1,\n",
      "       2, 3, 4, 5, 6, 7, 1, 2, 3, 4, 5, 6, 7, 1, 2, 3, 4, 5, 6, 7, 1, 2,\n",
      "       3, 4, 5, 6, 7, 1, 2, 3, 4, 5, 6, 7, 1, 2, 3, 4, 5, 6, 7, 1, 2, 3,\n",
      "       4, 5, 6, 7, 1, 2, 3, 4, 5, 6, 7, 1, 2, 3, 4, 5, 6, 7, 1, 2, 3, 4,\n",
      "       5, 6, 7, 1, 2, 3, 4, 5, 6, 7, 1, 2, 3, 4, 5, 6, 7, 1, 2, 3, 4, 5,\n",
      "       6, 7, 1, 2, 3, 4, 5, 6, 7, 1, 2, 3, 4, 5, 6, 7, 1, 2, 3, 4, 5, 6,\n",
      "       7, 1, 2, 3, 4, 5, 6, 7, 1, 2, 3, 4, 5, 6, 7, 1, 2, 3, 4, 5, 6, 7,\n",
      "       1, 2, 3, 4, 5, 6, 7, 1, 2, 3, 4, 5, 6, 7, 1, 2, 3, 4, 5, 6, 7, 1,\n",
      "       2, 3, 4, 5, 6, 7, 1, 2]))\n"
     ]
    }
   ],
   "source": [
    "threshold = 3\n",
    "print(np.where(z > 3))"
   ]
  },
  {
   "cell_type": "code",
   "execution_count": 43,
   "metadata": {},
   "outputs": [],
   "source": [
    "new_X_train_df_o = new_X_train_df[(z < 3).all(axis=1)]"
   ]
  },
  {
   "cell_type": "code",
   "execution_count": 44,
   "metadata": {},
   "outputs": [
    {
     "data": {
      "text/plain": [
       "(2514, 10)"
      ]
     },
     "execution_count": 44,
     "metadata": {},
     "output_type": "execute_result"
    }
   ],
   "source": [
    "new_X_train_df.shape"
   ]
  },
  {
   "cell_type": "code",
   "execution_count": 45,
   "metadata": {},
   "outputs": [
    {
     "data": {
      "text/plain": [
       "(2487, 10)"
      ]
     },
     "execution_count": 45,
     "metadata": {},
     "output_type": "execute_result"
    }
   ],
   "source": [
    "new_X_train_df_o.shape"
   ]
  },
  {
   "cell_type": "markdown",
   "metadata": {},
   "source": [
    "# Sequential Background Selection Method"
   ]
  },
  {
   "cell_type": "code",
   "execution_count": 48,
   "metadata": {},
   "outputs": [
    {
     "data": {
      "text/plain": [
       "7"
      ]
     },
     "execution_count": 48,
     "metadata": {},
     "output_type": "execute_result"
    }
   ],
   "source": [
    "def simple_crit_func(feat_sub):\n",
    "    \"\"\" Returns sum of numerical values of an input list. \"\"\" \n",
    "    return sum(feat_sub)\n",
    "\n",
    "# Example:\n",
    "simple_crit_func([1,2,4])"
   ]
  },
  {
   "cell_type": "code",
   "execution_count": 49,
   "metadata": {},
   "outputs": [],
   "source": [
    "from copy import deepcopy\n",
    "\n",
    "def seq_backw_select(features, max_k, criterion_func, print_steps=False):\n",
    "    \"\"\"\n",
    "    Implementation of a Sequential Backward Selection algorithm.\n",
    "    \n",
    "    Keyword Arguments:\n",
    "        features (list): The feature space as a list of features.\n",
    "        max_k: Termination criterion; the size of the returned feature subset.\n",
    "        criterion_func (function): Function that is used to evaluate the\n",
    "            performance of the feature subset.\n",
    "        print_steps (bool): Prints the algorithm procedure if True.\n",
    "        \n",
    "    Returns the selected feature subset, a list of features of length max_k.\n",
    "\n",
    "    \"\"\"\n",
    "    # Initialization\n",
    "    feat_sub = deepcopy(features)\n",
    "    k = len(feat_sub)\n",
    "    i = 0\n",
    "\n",
    "    while True:\n",
    "        \n",
    "        # Exclusion step\n",
    "        if print_steps:\n",
    "            print('\\nExclusion from feature subset', feat_sub)\n",
    "        worst_feat = len(feat_sub)-1\n",
    "        worst_feat_val = feat_sub[worst_feat]\n",
    "        crit_func_max = criterion_func(feat_sub[:-1]) \n",
    "\n",
    "        for i in reversed(range(0,len(feat_sub)-1)):\n",
    "            crit_func_eval = criterion_func(feat_sub[:i] + feat_sub[i+1:])\n",
    "            if crit_func_eval > crit_func_max:\n",
    "                worst_feat, crit_func_max = i, crit_func_eval\n",
    "                worst_feat_val = feat_sub[worst_feat]\n",
    "        del feat_sub[worst_feat]\n",
    "        if print_steps:\n",
    "            print('exclude: {} -> feature subset: {}'.format(worst_feat_val, feat_sub))\n",
    "        \n",
    "        # Termination condition\n",
    "        k = len(feat_sub)\n",
    "        if k == max_k:\n",
    "            break\n",
    "                \n",
    "    return feat_sub"
   ]
  },
  {
   "cell_type": "code",
   "execution_count": 50,
   "metadata": {},
   "outputs": [
    {
     "name": "stdout",
     "output_type": "stream",
     "text": [
      "\n",
      "Exclusion from feature subset [1, 2, 3, 4, 5, 6, 7, 8, 9, 10]\n",
      "exclude: 1 -> feature subset: [2, 3, 4, 5, 6, 7, 8, 9, 10]\n",
      "\n",
      "Exclusion from feature subset [2, 3, 4, 5, 6, 7, 8, 9, 10]\n",
      "exclude: 2 -> feature subset: [3, 4, 5, 6, 7, 8, 9, 10]\n",
      "\n",
      "Exclusion from feature subset [3, 4, 5, 6, 7, 8, 9, 10]\n",
      "exclude: 3 -> feature subset: [4, 5, 6, 7, 8, 9, 10]\n",
      "\n",
      "Exclusion from feature subset [4, 5, 6, 7, 8, 9, 10]\n",
      "exclude: 4 -> feature subset: [5, 6, 7, 8, 9, 10]\n",
      "\n",
      "Exclusion from feature subset [5, 6, 7, 8, 9, 10]\n",
      "exclude: 5 -> feature subset: [6, 7, 8, 9, 10]\n",
      "\n",
      "Exclusion from feature subset [6, 7, 8, 9, 10]\n",
      "exclude: 6 -> feature subset: [7, 8, 9, 10]\n",
      "\n",
      "Exclusion from feature subset [7, 8, 9, 10]\n",
      "exclude: 7 -> feature subset: [8, 9, 10]\n",
      "\n",
      "RESULT: [6, 3, 1, 6, 8, 2, 3, 7, 9, 1] -> [8, 9, 10]\n"
     ]
    }
   ],
   "source": [
    "def example_seq_backw_select():\n",
    "    ex_features = [1,2,3,4,5,6,7,8,9,10]\n",
    "    res_backw = seq_backw_select(features=ex_features, max_k=3,\\\n",
    "                                 criterion_func=simple_crit_func, print_steps=True)  \n",
    "    return (res_backw)\n",
    "    \n",
    "# Run example\n",
    "res_backw = example_seq_backw_select()\n",
    "print('\\nRESULT: [6, 3, 1, 6, 8, 2, 3, 7, 9, 1] ->', res_backw)"
   ]
  },
  {
   "cell_type": "code",
   "execution_count": 51,
   "metadata": {},
   "outputs": [],
   "source": [
    "def predict1(X_test, X_train, y_train,feat_sub):\n",
    "    feat_sub1 = deepcopy(feat_sub)\n",
    "    X_test_copy=X_test.iloc[feat_sub1]\n",
    "    X_train_copy=X_train.iloc[feat_sub1]\n",
    "    num_examples, num_features, num_classes = get_params(X_test_copy, y_train)\n",
    "    class_mean, class_std, class_prior = get_stats_by_class(X_train_copy, y_train)\n",
    "    probs = class_probabilities(X_test_copy, class_mean, class_std, class_prior)\n",
    "    return np.argmax(probs, 1)"
   ]
  },
  {
   "cell_type": "code",
   "execution_count": null,
   "metadata": {},
   "outputs": [],
   "source": [
    "my_preds = predict(new_X_test_df, new_X_train_df, new_y_train_df,)"
   ]
  },
  {
   "cell_type": "code",
   "execution_count": null,
   "metadata": {},
   "outputs": [],
   "source": []
  },
  {
   "cell_type": "code",
   "execution_count": 100,
   "metadata": {},
   "outputs": [],
   "source": [
    "new_X_train_df_copy=new_X_train_df"
   ]
  },
  {
   "cell_type": "code",
   "execution_count": 101,
   "metadata": {},
   "outputs": [],
   "source": [
    "ex_features = [1,2,3,4,5,6,7,8,9,10]"
   ]
  },
  {
   "cell_type": "code",
   "execution_count": 109,
   "metadata": {},
   "outputs": [
    {
     "ename": "IndexError",
     "evalue": "positional indexers are out-of-bounds",
     "output_type": "error",
     "traceback": [
      "\u001b[0;31m---------------------------------------------------------------------------\u001b[0m",
      "\u001b[0;31mIndexError\u001b[0m                                Traceback (most recent call last)",
      "\u001b[0;32m<ipython-input-109-caba919334af>\u001b[0m in \u001b[0;36m<module>\u001b[0;34m\u001b[0m\n\u001b[0;32m----> 1\u001b[0;31m \u001b[0mnew_X_train_df\u001b[0m\u001b[0;34m.\u001b[0m\u001b[0miloc\u001b[0m\u001b[0;34m[\u001b[0m\u001b[0;34m:\u001b[0m\u001b[0;34m,\u001b[0m\u001b[0mex_features\u001b[0m\u001b[0;34m]\u001b[0m\u001b[0;34m\u001b[0m\u001b[0;34m\u001b[0m\u001b[0m\n\u001b[0m",
      "\u001b[0;32m/opt/anaconda3/lib/python3.8/site-packages/pandas/core/indexing.py\u001b[0m in \u001b[0;36m__getitem__\u001b[0;34m(self, key)\u001b[0m\n\u001b[1;32m   1760\u001b[0m                 \u001b[0;32mexcept\u001b[0m \u001b[0;34m(\u001b[0m\u001b[0mKeyError\u001b[0m\u001b[0;34m,\u001b[0m \u001b[0mIndexError\u001b[0m\u001b[0;34m,\u001b[0m \u001b[0mAttributeError\u001b[0m\u001b[0;34m)\u001b[0m\u001b[0;34m:\u001b[0m\u001b[0;34m\u001b[0m\u001b[0;34m\u001b[0m\u001b[0m\n\u001b[1;32m   1761\u001b[0m                     \u001b[0;32mpass\u001b[0m\u001b[0;34m\u001b[0m\u001b[0;34m\u001b[0m\u001b[0m\n\u001b[0;32m-> 1762\u001b[0;31m             \u001b[0;32mreturn\u001b[0m \u001b[0mself\u001b[0m\u001b[0;34m.\u001b[0m\u001b[0m_getitem_tuple\u001b[0m\u001b[0;34m(\u001b[0m\u001b[0mkey\u001b[0m\u001b[0;34m)\u001b[0m\u001b[0;34m\u001b[0m\u001b[0;34m\u001b[0m\u001b[0m\n\u001b[0m\u001b[1;32m   1763\u001b[0m         \u001b[0;32melse\u001b[0m\u001b[0;34m:\u001b[0m\u001b[0;34m\u001b[0m\u001b[0;34m\u001b[0m\u001b[0m\n\u001b[1;32m   1764\u001b[0m             \u001b[0;31m# we by definition only have the 0th axis\u001b[0m\u001b[0;34m\u001b[0m\u001b[0;34m\u001b[0m\u001b[0;34m\u001b[0m\u001b[0m\n",
      "\u001b[0;32m/opt/anaconda3/lib/python3.8/site-packages/pandas/core/indexing.py\u001b[0m in \u001b[0;36m_getitem_tuple\u001b[0;34m(self, tup)\u001b[0m\n\u001b[1;32m   2065\u001b[0m     \u001b[0;32mdef\u001b[0m \u001b[0m_getitem_tuple\u001b[0m\u001b[0;34m(\u001b[0m\u001b[0mself\u001b[0m\u001b[0;34m,\u001b[0m \u001b[0mtup\u001b[0m\u001b[0;34m:\u001b[0m \u001b[0mTuple\u001b[0m\u001b[0;34m)\u001b[0m\u001b[0;34m:\u001b[0m\u001b[0;34m\u001b[0m\u001b[0;34m\u001b[0m\u001b[0m\n\u001b[1;32m   2066\u001b[0m \u001b[0;34m\u001b[0m\u001b[0m\n\u001b[0;32m-> 2067\u001b[0;31m         \u001b[0mself\u001b[0m\u001b[0;34m.\u001b[0m\u001b[0m_has_valid_tuple\u001b[0m\u001b[0;34m(\u001b[0m\u001b[0mtup\u001b[0m\u001b[0;34m)\u001b[0m\u001b[0;34m\u001b[0m\u001b[0;34m\u001b[0m\u001b[0m\n\u001b[0m\u001b[1;32m   2068\u001b[0m         \u001b[0;32mtry\u001b[0m\u001b[0;34m:\u001b[0m\u001b[0;34m\u001b[0m\u001b[0;34m\u001b[0m\u001b[0m\n\u001b[1;32m   2069\u001b[0m             \u001b[0;32mreturn\u001b[0m \u001b[0mself\u001b[0m\u001b[0;34m.\u001b[0m\u001b[0m_getitem_lowerdim\u001b[0m\u001b[0;34m(\u001b[0m\u001b[0mtup\u001b[0m\u001b[0;34m)\u001b[0m\u001b[0;34m\u001b[0m\u001b[0;34m\u001b[0m\u001b[0m\n",
      "\u001b[0;32m/opt/anaconda3/lib/python3.8/site-packages/pandas/core/indexing.py\u001b[0m in \u001b[0;36m_has_valid_tuple\u001b[0;34m(self, key)\u001b[0m\n\u001b[1;32m    701\u001b[0m                 \u001b[0;32mraise\u001b[0m \u001b[0mIndexingError\u001b[0m\u001b[0;34m(\u001b[0m\u001b[0;34m\"Too many indexers\"\u001b[0m\u001b[0;34m)\u001b[0m\u001b[0;34m\u001b[0m\u001b[0;34m\u001b[0m\u001b[0m\n\u001b[1;32m    702\u001b[0m             \u001b[0;32mtry\u001b[0m\u001b[0;34m:\u001b[0m\u001b[0;34m\u001b[0m\u001b[0;34m\u001b[0m\u001b[0m\n\u001b[0;32m--> 703\u001b[0;31m                 \u001b[0mself\u001b[0m\u001b[0;34m.\u001b[0m\u001b[0m_validate_key\u001b[0m\u001b[0;34m(\u001b[0m\u001b[0mk\u001b[0m\u001b[0;34m,\u001b[0m \u001b[0mi\u001b[0m\u001b[0;34m)\u001b[0m\u001b[0;34m\u001b[0m\u001b[0;34m\u001b[0m\u001b[0m\n\u001b[0m\u001b[1;32m    704\u001b[0m             \u001b[0;32mexcept\u001b[0m \u001b[0mValueError\u001b[0m\u001b[0;34m:\u001b[0m\u001b[0;34m\u001b[0m\u001b[0;34m\u001b[0m\u001b[0m\n\u001b[1;32m    705\u001b[0m                 raise ValueError(\n",
      "\u001b[0;32m/opt/anaconda3/lib/python3.8/site-packages/pandas/core/indexing.py\u001b[0m in \u001b[0;36m_validate_key\u001b[0;34m(self, key, axis)\u001b[0m\n\u001b[1;32m   2007\u001b[0m             \u001b[0;31m# check that the key does not exceed the maximum size of the index\u001b[0m\u001b[0;34m\u001b[0m\u001b[0;34m\u001b[0m\u001b[0;34m\u001b[0m\u001b[0m\n\u001b[1;32m   2008\u001b[0m             \u001b[0;32mif\u001b[0m \u001b[0mlen\u001b[0m\u001b[0;34m(\u001b[0m\u001b[0marr\u001b[0m\u001b[0;34m)\u001b[0m \u001b[0;32mand\u001b[0m \u001b[0;34m(\u001b[0m\u001b[0marr\u001b[0m\u001b[0;34m.\u001b[0m\u001b[0mmax\u001b[0m\u001b[0;34m(\u001b[0m\u001b[0;34m)\u001b[0m \u001b[0;34m>=\u001b[0m \u001b[0mlen_axis\u001b[0m \u001b[0;32mor\u001b[0m \u001b[0marr\u001b[0m\u001b[0;34m.\u001b[0m\u001b[0mmin\u001b[0m\u001b[0;34m(\u001b[0m\u001b[0;34m)\u001b[0m \u001b[0;34m<\u001b[0m \u001b[0;34m-\u001b[0m\u001b[0mlen_axis\u001b[0m\u001b[0;34m)\u001b[0m\u001b[0;34m:\u001b[0m\u001b[0;34m\u001b[0m\u001b[0;34m\u001b[0m\u001b[0m\n\u001b[0;32m-> 2009\u001b[0;31m                 \u001b[0;32mraise\u001b[0m \u001b[0mIndexError\u001b[0m\u001b[0;34m(\u001b[0m\u001b[0;34m\"positional indexers are out-of-bounds\"\u001b[0m\u001b[0;34m)\u001b[0m\u001b[0;34m\u001b[0m\u001b[0;34m\u001b[0m\u001b[0m\n\u001b[0m\u001b[1;32m   2010\u001b[0m         \u001b[0;32melse\u001b[0m\u001b[0;34m:\u001b[0m\u001b[0;34m\u001b[0m\u001b[0;34m\u001b[0m\u001b[0m\n\u001b[1;32m   2011\u001b[0m             \u001b[0;32mraise\u001b[0m \u001b[0mValueError\u001b[0m\u001b[0;34m(\u001b[0m\u001b[0;34mf\"Can only index by location with a [{self._valid_types}]\"\u001b[0m\u001b[0;34m)\u001b[0m\u001b[0;34m\u001b[0m\u001b[0;34m\u001b[0m\u001b[0m\n",
      "\u001b[0;31mIndexError\u001b[0m: positional indexers are out-of-bounds"
     ]
    }
   ],
   "source": [
    "new_X_train_df.iloc[:,ex_features]"
   ]
  },
  {
   "cell_type": "code",
   "execution_count": 77,
   "metadata": {},
   "outputs": [
    {
     "ename": "TypeError",
     "evalue": "Cannot index by location index with a non-integer key",
     "output_type": "error",
     "traceback": [
      "\u001b[0;31m---------------------------------------------------------------------------\u001b[0m",
      "\u001b[0;31mTypeError\u001b[0m                                 Traceback (most recent call last)",
      "\u001b[0;32m<ipython-input-77-a8c62c71ab56>\u001b[0m in \u001b[0;36m<module>\u001b[0;34m\u001b[0m\n\u001b[0;32m----> 1\u001b[0;31m \u001b[0mnew_X_train_df_copy\u001b[0m\u001b[0;34m.\u001b[0m\u001b[0miloc\u001b[0m\u001b[0;34m[\u001b[0m\u001b[0;34m'countyname'\u001b[0m\u001b[0;34m]\u001b[0m\u001b[0;34m\u001b[0m\u001b[0;34m\u001b[0m\u001b[0m\n\u001b[0m",
      "\u001b[0;32m/opt/anaconda3/lib/python3.8/site-packages/pandas/core/indexing.py\u001b[0m in \u001b[0;36m__getitem__\u001b[0;34m(self, key)\u001b[0m\n\u001b[1;32m   1766\u001b[0m \u001b[0;34m\u001b[0m\u001b[0m\n\u001b[1;32m   1767\u001b[0m             \u001b[0mmaybe_callable\u001b[0m \u001b[0;34m=\u001b[0m \u001b[0mcom\u001b[0m\u001b[0;34m.\u001b[0m\u001b[0mapply_if_callable\u001b[0m\u001b[0;34m(\u001b[0m\u001b[0mkey\u001b[0m\u001b[0;34m,\u001b[0m \u001b[0mself\u001b[0m\u001b[0;34m.\u001b[0m\u001b[0mobj\u001b[0m\u001b[0;34m)\u001b[0m\u001b[0;34m\u001b[0m\u001b[0;34m\u001b[0m\u001b[0m\n\u001b[0;32m-> 1768\u001b[0;31m             \u001b[0;32mreturn\u001b[0m \u001b[0mself\u001b[0m\u001b[0;34m.\u001b[0m\u001b[0m_getitem_axis\u001b[0m\u001b[0;34m(\u001b[0m\u001b[0mmaybe_callable\u001b[0m\u001b[0;34m,\u001b[0m \u001b[0maxis\u001b[0m\u001b[0;34m=\u001b[0m\u001b[0maxis\u001b[0m\u001b[0;34m)\u001b[0m\u001b[0;34m\u001b[0m\u001b[0;34m\u001b[0m\u001b[0m\n\u001b[0m\u001b[1;32m   1769\u001b[0m \u001b[0;34m\u001b[0m\u001b[0m\n\u001b[1;32m   1770\u001b[0m     \u001b[0;32mdef\u001b[0m \u001b[0m_is_scalar_access\u001b[0m\u001b[0;34m(\u001b[0m\u001b[0mself\u001b[0m\u001b[0;34m,\u001b[0m \u001b[0mkey\u001b[0m\u001b[0;34m:\u001b[0m \u001b[0mTuple\u001b[0m\u001b[0;34m)\u001b[0m\u001b[0;34m:\u001b[0m\u001b[0;34m\u001b[0m\u001b[0;34m\u001b[0m\u001b[0m\n",
      "\u001b[0;32m/opt/anaconda3/lib/python3.8/site-packages/pandas/core/indexing.py\u001b[0m in \u001b[0;36m_getitem_axis\u001b[0;34m(self, key, axis)\u001b[0m\n\u001b[1;32m   2133\u001b[0m             \u001b[0mkey\u001b[0m \u001b[0;34m=\u001b[0m \u001b[0mitem_from_zerodim\u001b[0m\u001b[0;34m(\u001b[0m\u001b[0mkey\u001b[0m\u001b[0;34m)\u001b[0m\u001b[0;34m\u001b[0m\u001b[0;34m\u001b[0m\u001b[0m\n\u001b[1;32m   2134\u001b[0m             \u001b[0;32mif\u001b[0m \u001b[0;32mnot\u001b[0m \u001b[0mis_integer\u001b[0m\u001b[0;34m(\u001b[0m\u001b[0mkey\u001b[0m\u001b[0;34m)\u001b[0m\u001b[0;34m:\u001b[0m\u001b[0;34m\u001b[0m\u001b[0;34m\u001b[0m\u001b[0m\n\u001b[0;32m-> 2135\u001b[0;31m                 \u001b[0;32mraise\u001b[0m \u001b[0mTypeError\u001b[0m\u001b[0;34m(\u001b[0m\u001b[0;34m\"Cannot index by location index with a non-integer key\"\u001b[0m\u001b[0;34m)\u001b[0m\u001b[0;34m\u001b[0m\u001b[0;34m\u001b[0m\u001b[0m\n\u001b[0m\u001b[1;32m   2136\u001b[0m \u001b[0;34m\u001b[0m\u001b[0m\n\u001b[1;32m   2137\u001b[0m             \u001b[0;31m# validate the location\u001b[0m\u001b[0;34m\u001b[0m\u001b[0;34m\u001b[0m\u001b[0;34m\u001b[0m\u001b[0m\n",
      "\u001b[0;31mTypeError\u001b[0m: Cannot index by location index with a non-integer key"
     ]
    }
   ],
   "source": [
    "new_X_train_df_copy.iloc['countyname']"
   ]
  },
  {
   "cell_type": "code",
   "execution_count": 54,
   "metadata": {},
   "outputs": [
    {
     "data": {
      "text/plain": [
       "(2514, 10)"
      ]
     },
     "execution_count": 54,
     "metadata": {},
     "output_type": "execute_result"
    }
   ],
   "source": [
    "new_X_train_df_copy.shape"
   ]
  },
  {
   "cell_type": "code",
   "execution_count": 56,
   "metadata": {},
   "outputs": [
    {
     "data": {
      "text/html": [
       "<div>\n",
       "<style scoped>\n",
       "    .dataframe tbody tr th:only-of-type {\n",
       "        vertical-align: middle;\n",
       "    }\n",
       "\n",
       "    .dataframe tbody tr th {\n",
       "        vertical-align: top;\n",
       "    }\n",
       "\n",
       "    .dataframe thead th {\n",
       "        text-align: right;\n",
       "    }\n",
       "</style>\n",
       "<table border=\"1\" class=\"dataframe\">\n",
       "  <thead>\n",
       "    <tr style=\"text-align: right;\">\n",
       "      <th></th>\n",
       "      <th>countyfips</th>\n",
       "      <th>predicted_deaths_by_october_06</th>\n",
       "      <th>predicted_deaths_by_october_07</th>\n",
       "      <th>predicted_deaths_by_october_08</th>\n",
       "      <th>predicted_deaths_by_october_09</th>\n",
       "      <th>predicted_deaths_by_october_10</th>\n",
       "      <th>predicted_deaths_by_october_11</th>\n",
       "      <th>predicted_deaths_by_october_12</th>\n",
       "      <th>countyname_cat</th>\n",
       "      <th>statename_cat</th>\n",
       "    </tr>\n",
       "  </thead>\n",
       "  <tbody>\n",
       "    <tr>\n",
       "      <th>3135</th>\n",
       "      <td>41069</td>\n",
       "      <td>0.1</td>\n",
       "      <td>0.3</td>\n",
       "      <td>0.5</td>\n",
       "      <td>0.7</td>\n",
       "      <td>1.0</td>\n",
       "      <td>1.3</td>\n",
       "      <td>1.7</td>\n",
       "      <td>1492</td>\n",
       "      <td>36</td>\n",
       "    </tr>\n",
       "    <tr>\n",
       "      <th>3136</th>\n",
       "      <td>2100</td>\n",
       "      <td>0.1</td>\n",
       "      <td>0.3</td>\n",
       "      <td>0.5</td>\n",
       "      <td>0.7</td>\n",
       "      <td>0.9</td>\n",
       "      <td>1.2</td>\n",
       "      <td>1.6</td>\n",
       "      <td>583</td>\n",
       "      <td>0</td>\n",
       "    </tr>\n",
       "    <tr>\n",
       "      <th>3137</th>\n",
       "      <td>20141</td>\n",
       "      <td>0.1</td>\n",
       "      <td>0.3</td>\n",
       "      <td>0.4</td>\n",
       "      <td>0.6</td>\n",
       "      <td>0.8</td>\n",
       "      <td>1.1</td>\n",
       "      <td>1.4</td>\n",
       "      <td>1031</td>\n",
       "      <td>15</td>\n",
       "    </tr>\n",
       "    <tr>\n",
       "      <th>3139</th>\n",
       "      <td>21237</td>\n",
       "      <td>0.1</td>\n",
       "      <td>0.3</td>\n",
       "      <td>0.4</td>\n",
       "      <td>0.6</td>\n",
       "      <td>0.8</td>\n",
       "      <td>1.1</td>\n",
       "      <td>1.4</td>\n",
       "      <td>1520</td>\n",
       "      <td>16</td>\n",
       "    </tr>\n",
       "    <tr>\n",
       "      <th>3140</th>\n",
       "      <td>49009</td>\n",
       "      <td>0.1</td>\n",
       "      <td>0.3</td>\n",
       "      <td>0.5</td>\n",
       "      <td>0.7</td>\n",
       "      <td>1.0</td>\n",
       "      <td>1.4</td>\n",
       "      <td>1.9</td>\n",
       "      <td>369</td>\n",
       "      <td>43</td>\n",
       "    </tr>\n",
       "  </tbody>\n",
       "</table>\n",
       "</div>"
      ],
      "text/plain": [
       "      countyfips  predicted_deaths_by_october_06  \\\n",
       "3135       41069                             0.1   \n",
       "3136        2100                             0.1   \n",
       "3137       20141                             0.1   \n",
       "3139       21237                             0.1   \n",
       "3140       49009                             0.1   \n",
       "\n",
       "      predicted_deaths_by_october_07  predicted_deaths_by_october_08  \\\n",
       "3135                             0.3                             0.5   \n",
       "3136                             0.3                             0.5   \n",
       "3137                             0.3                             0.4   \n",
       "3139                             0.3                             0.4   \n",
       "3140                             0.3                             0.5   \n",
       "\n",
       "      predicted_deaths_by_october_09  predicted_deaths_by_october_10  \\\n",
       "3135                             0.7                             1.0   \n",
       "3136                             0.7                             0.9   \n",
       "3137                             0.6                             0.8   \n",
       "3139                             0.6                             0.8   \n",
       "3140                             0.7                             1.0   \n",
       "\n",
       "      predicted_deaths_by_october_11  predicted_deaths_by_october_12  \\\n",
       "3135                             1.3                             1.7   \n",
       "3136                             1.2                             1.6   \n",
       "3137                             1.1                             1.4   \n",
       "3139                             1.1                             1.4   \n",
       "3140                             1.4                             1.9   \n",
       "\n",
       "      countyname_cat  statename_cat  \n",
       "3135            1492             36  \n",
       "3136             583              0  \n",
       "3137            1031             15  \n",
       "3139            1520             16  \n",
       "3140             369             43  "
      ]
     },
     "execution_count": 56,
     "metadata": {},
     "output_type": "execute_result"
    }
   ],
   "source": [
    "new_X_train_df_copy.tail()"
   ]
  },
  {
   "cell_type": "code",
   "execution_count": null,
   "metadata": {},
   "outputs": [],
   "source": []
  }
 ],
 "metadata": {
  "kernelspec": {
   "display_name": "Python 3",
   "language": "python",
   "name": "python3"
  },
  "language_info": {
   "codemirror_mode": {
    "name": "ipython",
    "version": 3
   },
   "file_extension": ".py",
   "mimetype": "text/x-python",
   "name": "python",
   "nbconvert_exporter": "python",
   "pygments_lexer": "ipython3",
   "version": "3.8.3"
  }
 },
 "nbformat": 4,
 "nbformat_minor": 4
}
