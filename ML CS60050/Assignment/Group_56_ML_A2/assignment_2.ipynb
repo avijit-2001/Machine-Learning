{
 "cells": [
  {
   "cell_type": "code",
   "execution_count": 1,
   "metadata": {},
   "outputs": [],
   "source": [
    "import numpy as np \n",
    "import pandas as pd\n",
    "from sklearn.preprocessing import LabelEncoder\n",
    "from sklearn.model_selection import train_test_split\n",
    "from matplotlib import pyplot as plt\n",
    "from sklearn.preprocessing import StandardScaler"
   ]
  },
  {
   "cell_type": "code",
   "execution_count": 2,
   "metadata": {},
   "outputs": [],
   "source": [
    "from copy import deepcopy"
   ]
  },
  {
   "cell_type": "markdown",
   "metadata": {},
   "source": [
    "# Naïve Bayes classifier"
   ]
  },
  {
   "cell_type": "code",
   "execution_count": 3,
   "metadata": {},
   "outputs": [],
   "source": [
    "df = pd.read_csv(\"Train_F.csv\")\n",
    "del df['countyfips']\n",
    "del df['countyname']"
   ]
  },
  {
   "cell_type": "code",
   "execution_count": 4,
   "metadata": {},
   "outputs": [],
   "source": [
    "def handle_missing_data(df):\n",
    "    \n",
    "    \"\"\"\n",
    "    This function will replace all ' ?' values from data frame with maximum occuring\n",
    "    from attribute from that particular attribute\n",
    "    \"\"\"\n",
    "    for col in df.columns:\n",
    "        col_set = df[col]\n",
    "        counts = {}\n",
    "        cnt = 0\n",
    "        for attribute in col_set.unique():\n",
    "            counts[attribute] = 0\n",
    "            if attribute == ' ':\n",
    "                cnt += 1\n",
    "        if not cnt:\n",
    "            continue\n",
    "        for attribute in col_set:\n",
    "            counts[attribute]+=1\n",
    "        max_freq = ' '\n",
    "        for attribute in col_set:\n",
    "            if counts[max_freq]<counts[attribute]:\n",
    "                max_freq = attribute\n",
    "        for i in range(len(df[col])):\n",
    "            if df[col][i] == ' ':\n",
    "                df[col][i] = max_freq\n",
    "    return df"
   ]
  },
  {
   "cell_type": "code",
   "execution_count": 5,
   "metadata": {},
   "outputs": [],
   "source": [
    "def newList_from_df(df):\n",
    "    \n",
    "    newList = []\n",
    "    for i in range(len(df)):\n",
    "        blankList = []\n",
    "        newList.append(blankList)\n",
    "    i = 0\n",
    "    for col in df.columns:\n",
    "        i = 0\n",
    "        for attribute in df[col]:\n",
    "            newList[i].append(attribute)\n",
    "            i = i + 1\n",
    "    newList = np.array(newList)\n",
    "        \n",
    "    num_instance, num_feature = newList.shape\n",
    "    \n",
    "    X = []\n",
    "    y = []\n",
    "    \n",
    "    for i in range(num_instance):\n",
    "        X.append(newList[i][:num_feature-1])\n",
    "        y.append(newList[i][num_feature-1])\n",
    "    \n",
    "    X = np.array(X)\n",
    "    y = np.array(y)\n",
    "    \n",
    "    for i in range(len(y)):\n",
    "        y[i] = y[i] - 1\n",
    "    \n",
    "    return X, y\n",
    "    "
   ]
  },
  {
   "cell_type": "markdown",
   "metadata": {},
   "source": [
    "## Handaling Missing Data\n",
    "**Here missing value is replaced with most frequent val**"
   ]
  },
  {
   "cell_type": "code",
   "execution_count": 6,
   "metadata": {},
   "outputs": [],
   "source": [
    "df = handle_missing_data(df)"
   ]
  },
  {
   "cell_type": "markdown",
   "metadata": {},
   "source": [
    "## Encoding categorical values\n",
    "**Categorical value is encoded using Label encoder**"
   ]
  },
  {
   "cell_type": "code",
   "execution_count": 7,
   "metadata": {},
   "outputs": [
    {
     "data": {
      "text/html": [
       "<div>\n",
       "<style scoped>\n",
       "    .dataframe tbody tr th:only-of-type {\n",
       "        vertical-align: middle;\n",
       "    }\n",
       "\n",
       "    .dataframe tbody tr th {\n",
       "        vertical-align: top;\n",
       "    }\n",
       "\n",
       "    .dataframe thead th {\n",
       "        text-align: right;\n",
       "    }\n",
       "</style>\n",
       "<table border=\"1\" class=\"dataframe\">\n",
       "  <thead>\n",
       "    <tr style=\"text-align: right;\">\n",
       "      <th></th>\n",
       "      <th>statename</th>\n",
       "      <th>predicted_deaths_by_october_06</th>\n",
       "      <th>predicted_deaths_by_october_07</th>\n",
       "      <th>predicted_deaths_by_october_08</th>\n",
       "      <th>predicted_deaths_by_october_09</th>\n",
       "      <th>predicted_deaths_by_october_10</th>\n",
       "      <th>predicted_deaths_by_october_11</th>\n",
       "      <th>predicted_deaths_by_october_12</th>\n",
       "      <th>severity_county_5-day</th>\n",
       "    </tr>\n",
       "  </thead>\n",
       "  <tbody>\n",
       "    <tr>\n",
       "      <th>0</th>\n",
       "      <td>34</td>\n",
       "      <td>7348.2</td>\n",
       "      <td>7356.8</td>\n",
       "      <td>7366.0</td>\n",
       "      <td>7375.6</td>\n",
       "      <td>7385.8</td>\n",
       "      <td>7396.5</td>\n",
       "      <td>7407.8</td>\n",
       "      <td>3</td>\n",
       "    </tr>\n",
       "    <tr>\n",
       "      <th>1</th>\n",
       "      <td>34</td>\n",
       "      <td>7274.1</td>\n",
       "      <td>7283.5</td>\n",
       "      <td>7293.3</td>\n",
       "      <td>7303.7</td>\n",
       "      <td>7314.6</td>\n",
       "      <td>7326.1</td>\n",
       "      <td>7338.2</td>\n",
       "      <td>3</td>\n",
       "    </tr>\n",
       "    <tr>\n",
       "      <th>2</th>\n",
       "      <td>4</td>\n",
       "      <td>6667.5</td>\n",
       "      <td>6679.6</td>\n",
       "      <td>6691.9</td>\n",
       "      <td>6704.5</td>\n",
       "      <td>6717.4</td>\n",
       "      <td>6730.6</td>\n",
       "      <td>6744.3</td>\n",
       "      <td>3</td>\n",
       "    </tr>\n",
       "    <tr>\n",
       "      <th>3</th>\n",
       "      <td>14</td>\n",
       "      <td>5273.9</td>\n",
       "      <td>5287.0</td>\n",
       "      <td>5300.5</td>\n",
       "      <td>5314.3</td>\n",
       "      <td>5328.6</td>\n",
       "      <td>5343.3</td>\n",
       "      <td>5358.5</td>\n",
       "      <td>3</td>\n",
       "    </tr>\n",
       "    <tr>\n",
       "      <th>4</th>\n",
       "      <td>34</td>\n",
       "      <td>4970.3</td>\n",
       "      <td>4982.1</td>\n",
       "      <td>4994.5</td>\n",
       "      <td>5007.4</td>\n",
       "      <td>5021.1</td>\n",
       "      <td>5035.3</td>\n",
       "      <td>5050.2</td>\n",
       "      <td>3</td>\n",
       "    </tr>\n",
       "  </tbody>\n",
       "</table>\n",
       "</div>"
      ],
      "text/plain": [
       "   statename  predicted_deaths_by_october_06  predicted_deaths_by_october_07  \\\n",
       "0         34                          7348.2                          7356.8   \n",
       "1         34                          7274.1                          7283.5   \n",
       "2          4                          6667.5                          6679.6   \n",
       "3         14                          5273.9                          5287.0   \n",
       "4         34                          4970.3                          4982.1   \n",
       "\n",
       "   predicted_deaths_by_october_08  predicted_deaths_by_october_09  \\\n",
       "0                          7366.0                          7375.6   \n",
       "1                          7293.3                          7303.7   \n",
       "2                          6691.9                          6704.5   \n",
       "3                          5300.5                          5314.3   \n",
       "4                          4994.5                          5007.4   \n",
       "\n",
       "   predicted_deaths_by_october_10  predicted_deaths_by_october_11  \\\n",
       "0                          7385.8                          7396.5   \n",
       "1                          7314.6                          7326.1   \n",
       "2                          6717.4                          6730.6   \n",
       "3                          5328.6                          5343.3   \n",
       "4                          5021.1                          5035.3   \n",
       "\n",
       "   predicted_deaths_by_october_12  severity_county_5-day  \n",
       "0                          7407.8                      3  \n",
       "1                          7338.2                      3  \n",
       "2                          6744.3                      3  \n",
       "3                          5358.5                      3  \n",
       "4                          5050.2                      3  "
      ]
     },
     "execution_count": 7,
     "metadata": {},
     "output_type": "execute_result"
    }
   ],
   "source": [
    "labelencoder = LabelEncoder()\n",
    "df['statename'] = labelencoder.fit_transform(df['statename'])\n",
    "df.head()"
   ]
  },
  {
   "cell_type": "code",
   "execution_count": null,
   "metadata": {},
   "outputs": [],
   "source": []
  },
  {
   "cell_type": "code",
   "execution_count": 8,
   "metadata": {},
   "outputs": [],
   "source": [
    "X, y = newList_from_df(df)"
   ]
  },
  {
   "cell_type": "markdown",
   "metadata": {},
   "source": [
    "## Normalisation of Data\n",
    "**Normalizing from column 1 to column 8**"
   ]
  },
  {
   "cell_type": "code",
   "execution_count": 9,
   "metadata": {},
   "outputs": [],
   "source": [
    "def normaliseMat(rows, stInd, endInd):\n",
    "    \"\"\"\n",
    "    This function will normalise the data from stCol to endCol\n",
    "    \"\"\"\n",
    "    rows_cp = np.copy(rows)\n",
    "    \n",
    "    for row in rows_cp:\n",
    "        sum = 0.0\n",
    "        for i in range(endInd-stInd+1):\n",
    "            sum += row[i+stInd]\n",
    "        \n",
    "        sum = sum/(endInd-stInd+1)\n",
    "        \n",
    "        for i in range(endInd-stInd+1):\n",
    "            row[i+stInd]/=sum;\n",
    "            \n",
    "    return rows_cp"
   ]
  },
  {
   "cell_type": "code",
   "execution_count": 10,
   "metadata": {},
   "outputs": [],
   "source": [
    "X_std = normaliseMat(X, 1, 7)"
   ]
  },
  {
   "cell_type": "markdown",
   "metadata": {},
   "source": [
    "## Spilting the data at random\n",
    "**The data is spilted randomly with 80% Train and 20% Test**"
   ]
  },
  {
   "cell_type": "code",
   "execution_count": 11,
   "metadata": {},
   "outputs": [],
   "source": [
    "X_train, X_test, y_train, y_test = train_test_split(X_std, y, test_size= 0.2, random_state=1810)"
   ]
  },
  {
   "cell_type": "code",
   "execution_count": 12,
   "metadata": {},
   "outputs": [],
   "source": [
    "def get_params(X_train, y_train): \n",
    "    \"\"\"\n",
    "    Function to get the unique classes, number of classes and number of features in training data\n",
    "    \"\"\"\n",
    "    num_examples, num_features = X_train.shape\n",
    "    num_classes = len(np.unique(y_train))\n",
    "    return num_examples, num_features, num_classes"
   ]
  },
  {
   "cell_type": "code",
   "execution_count": 13,
   "metadata": {},
   "outputs": [],
   "source": [
    "num_examples, num_features, num_classes = get_params(X_train, y_train)"
   ]
  },
  {
   "cell_type": "code",
   "execution_count": 14,
   "metadata": {},
   "outputs": [],
   "source": [
    "def get_stats_by_class(X_train, y_train, num_examples=num_examples, num_classes=num_classes): \n",
    "    \"\"\"\n",
    "    Get stats of dataset by the class\n",
    "    \"\"\"\n",
    "    class_mean = {}\n",
    "    class_var = {} \n",
    "    class_prior = {} \n",
    "    \n",
    "    num_examples = len(X_train)\n",
    "    \n",
    "    for cls in range(num_classes): \n",
    "        X_cls = X_train[y_train == cls]\n",
    "        class_mean[str(cls)] = np.mean(X_cls, axis=0)\n",
    "        class_var[str(cls)] = np.var(X_cls, axis=0)\n",
    "        class_prior[str(cls)] = X_cls.shape[0] / num_examples\n",
    "        \n",
    "    return class_mean, class_var, class_prior"
   ]
  },
  {
   "cell_type": "code",
   "execution_count": 15,
   "metadata": {},
   "outputs": [],
   "source": [
    "def gaussian_density_function(X, mean, std, num_examples=num_examples, num_features=num_features, eps=1e-6): \n",
    "    \n",
    "    num_exambles, num_features = X_train.shape\n",
    "    const = -num_features/2 * np.log(2*np.pi) - 0.5 * np.sum(np.log(std + eps))\n",
    "    probs = 0.5 * np.sum(np.power(X - mean, 2)/(std + eps),axis = 1)\n",
    "    \n",
    "    return const - probs"
   ]
  },
  {
   "cell_type": "code",
   "execution_count": 16,
   "metadata": {},
   "outputs": [],
   "source": [
    "def class_probabilities(X, class_mean, class_var, class_prior, num_classes=num_classes):\n",
    "    \"\"\"\n",
    "    calculate the probability of each class given the data\n",
    "    \"\"\"\n",
    "    num_examples = X.shape[0]\n",
    "    probs = np.zeros((num_examples, num_classes))\n",
    "\n",
    "    for cls in range(num_classes): \n",
    "        prior = class_prior[str(cls)]\n",
    "        probs_cls = gaussian_density_function(X, class_mean[str(cls)], class_var[str(cls)])\n",
    "        probs[:, cls] = probs_cls + np.log(prior)\n",
    "    return probs"
   ]
  },
  {
   "cell_type": "code",
   "execution_count": 17,
   "metadata": {},
   "outputs": [],
   "source": [
    "def predict(X_test, X_train, y_train): \n",
    "    \n",
    "    num_examples, num_features, num_classes = get_params(X_test, y_train)\n",
    "    class_mean, class_std, class_prior = get_stats_by_class(X_train, y_train)\n",
    "    probs = class_probabilities(X_test, class_mean, class_std, class_prior)\n",
    "    \n",
    "    return np.argmax(probs, 1)"
   ]
  },
  {
   "cell_type": "markdown",
   "metadata": {},
   "source": [
    "## Calculating accuracy"
   ]
  },
  {
   "cell_type": "code",
   "execution_count": 18,
   "metadata": {},
   "outputs": [],
   "source": [
    "def accuracy(X_test, X_train, y_train, y_test):\n",
    "    \n",
    "    my_preds = predict(X_test, X_train, y_train)\n",
    "    cnt = 0.0\n",
    "    \n",
    "    for i in range(len(my_preds)):\n",
    "        if my_preds[i] == y_test[i]:\n",
    "            cnt+=1\n",
    "            \n",
    "    return cnt/len(my_preds)"
   ]
  },
  {
   "cell_type": "code",
   "execution_count": 19,
   "metadata": {},
   "outputs": [
    {
     "data": {
      "text/plain": [
       "0.575516693163752"
      ]
     },
     "execution_count": 19,
     "metadata": {},
     "output_type": "execute_result"
    }
   ],
   "source": [
    "accuracy(X_test, X_train, y_train, y_test)"
   ]
  },
  {
   "cell_type": "markdown",
   "metadata": {},
   "source": [
    "## K-fold cross validation\n",
    "**Here k is 5, i.e 5 fold cross validation is performed and Mean is printed**"
   ]
  },
  {
   "cell_type": "code",
   "execution_count": 20,
   "metadata": {},
   "outputs": [],
   "source": [
    "def KFoldCrossVal(X, y):\n",
    "        \n",
    "    size = int(len(X)/5)\n",
    "    arr = []\n",
    "    \n",
    "    for i in range(5):\n",
    "        \n",
    "        X_test = X[i*size:(i+1)*size]\n",
    "        y_test = y[i*size:(i+1)*size]\n",
    "        X_train= np.concatenate((X[:i*size], X[(i+1)*size:]))\n",
    "        y_train= np.concatenate((y[:i*size], y[(i+1)*size:]))\n",
    "                 \n",
    "        new_accuracy = accuracy(X_test, X_train, y_train, y_test)\n",
    "        \n",
    "        arr.append(new_accuracy)\n",
    "    arr = np.array(arr)\n",
    "    return arr"
   ]
  },
  {
   "cell_type": "code",
   "execution_count": 21,
   "metadata": {},
   "outputs": [
    {
     "name": "stdout",
     "output_type": "stream",
     "text": [
      "Mean Accuracy is :0.46815286624203817\n"
     ]
    }
   ],
   "source": [
    "arr = KFoldCrossVal(X_std, y)\n",
    "print(\"Mean Accuracy is :\" + str(np.mean(arr)))"
   ]
  },
  {
   "cell_type": "markdown",
   "metadata": {},
   "source": [
    "# Principle Component Analysis\n",
    "**Selecting number of components by preserving 95% of total variance**"
   ]
  },
  {
   "cell_type": "code",
   "execution_count": 22,
   "metadata": {},
   "outputs": [],
   "source": [
    "X, y = newList_from_df(df)"
   ]
  },
  {
   "cell_type": "code",
   "execution_count": 23,
   "metadata": {},
   "outputs": [],
   "source": [
    "X_std = StandardScaler().fit_transform(X)"
   ]
  },
  {
   "cell_type": "markdown",
   "metadata": {},
   "source": [
    "## Calculating Eigenvectors and Eigenvalues\n",
    "**Eigen parameters are calculated from Standardized data**"
   ]
  },
  {
   "cell_type": "code",
   "execution_count": 24,
   "metadata": {},
   "outputs": [],
   "source": [
    "mean_vec = np.mean(X_std, axis = 0)\n",
    "cov_mat  = (X_std - mean_vec).T.dot((X_std - mean_vec)) / (X_std.shape[0]-1)\n",
    "eig_vals, eig_vecs = np.linalg.eig(cov_mat)"
   ]
  },
  {
   "cell_type": "code",
   "execution_count": 25,
   "metadata": {},
   "outputs": [
    {
     "name": "stdout",
     "output_type": "stream",
     "text": [
      "\n",
      "Eigenvalues \n",
      "[7.00306479e+00 9.99378819e-01 1.03038460e-04 2.73693728e-07\n",
      " 1.27480942e-08 6.72846654e-09 8.19130752e-09 7.44108040e-09]\n"
     ]
    }
   ],
   "source": [
    "print('\\nEigenvalues \\n%s' %eig_vals)"
   ]
  },
  {
   "cell_type": "code",
   "execution_count": 26,
   "metadata": {},
   "outputs": [
    {
     "name": "stdout",
     "output_type": "stream",
     "text": [
      "Eigenvalues in descending order:\n",
      "7.003064792848317\n",
      "0.9993788194556021\n",
      "0.00010303846047465668\n",
      "2.736937281386428e-07\n",
      "1.2748094207161944e-08\n",
      "8.191307518696842e-09\n",
      "7.441080403439004e-09\n",
      "6.72846653614261e-09\n"
     ]
    }
   ],
   "source": [
    "# Make a list of (eigenvalue, eigenvector) tuples\n",
    "\n",
    "eig_pairs = [(np.abs(eig_vals[i]), eig_vecs[:,i]) for i in range(len(eig_vals))]\n",
    "eig_pairs.sort(key=lambda x: x[0], reverse=True)\n",
    "print('Eigenvalues in descending order:')\n",
    "for i in eig_pairs:\n",
    "    print(i[0])"
   ]
  },
  {
   "cell_type": "markdown",
   "metadata": {},
   "source": [
    "## calculating explained variance and plotting curve"
   ]
  },
  {
   "cell_type": "code",
   "execution_count": 27,
   "metadata": {},
   "outputs": [
    {
     "name": "stdout",
     "output_type": "stream",
     "text": [
      "[87.51044921362355, 12.488259356739437, 0.0012875708320770783, 3.420082750172944e-06, 1.593004611103413e-07, 1.0235875603209184e-07, 9.298390176321511e-08, 8.407906345490052e-08]\n"
     ]
    }
   ],
   "source": [
    "tot = sum(eig_vals)\n",
    "var_exp = [(i / tot)*100 for i in sorted(eig_vals, reverse=True)]\n",
    "cum_var_exp = np.cumsum(var_exp)\n",
    "print(var_exp)"
   ]
  },
  {
   "cell_type": "code",
   "execution_count": 28,
   "metadata": {},
   "outputs": [
    {
     "data": {
      "image/png": "[encoded data removed]",
      "text/plain": [
       "<Figure size 432x288 with 1 Axes>"
      ]
     },
     "metadata": {},
     "output_type": "display_data"
    }
   ],
   "source": [
    "with plt.style.context('seaborn-whitegrid'):\n",
    "    plt.figure(figsize=(6, 4))\n",
    "\n",
    "    plt.bar(range(8), var_exp, alpha=0.5, align='center',\n",
    "            label='individual explained variance')\n",
    "    plt.step(range(8), cum_var_exp, where='mid',\n",
    "             label='cumulative explained variance')\n",
    "    plt.ylabel('Explained variance ratio')\n",
    "    plt.xlabel('Principal components')\n",
    "    plt.legend(loc='best')\n",
    "    plt.tight_layout()\n"
   ]
  },
  {
   "cell_type": "markdown",
   "metadata": {},
   "source": [
    "The plot above clearly shows that most of the variance (87.51% of the variance to be precise) can be explained by the first principal component alone. The second principal component still bears some information (12.48%) while the rest principal components can safely be dropped without losing too much information. Together, the first two principal components contain 99.99% of the information.\n"
   ]
  },
  {
   "cell_type": "markdown",
   "metadata": {},
   "source": [
    "## Projection Matrix and Projecting in a new feature space\n",
    "**Y=X×W**"
   ]
  },
  {
   "cell_type": "code",
   "execution_count": 29,
   "metadata": {},
   "outputs": [],
   "source": [
    "matrix_w = np.hstack((eig_pairs[0][1].reshape(8,1),\n",
    "                      eig_pairs[1][1].reshape(8,1),))"
   ]
  },
  {
   "cell_type": "code",
   "execution_count": 30,
   "metadata": {},
   "outputs": [],
   "source": [
    "Y = X_std.dot(matrix_w)\n",
    "\n",
    "# from sklearn import decomposition\n",
    "# pca = decomposition.PCA(n_components=2)\n",
    "# pca.fit(X_std)\n",
    "# Xu = pca.transform(X_std)"
   ]
  },
  {
   "cell_type": "markdown",
   "metadata": {},
   "source": [
    "## Plotting scatter graph"
   ]
  },
  {
   "cell_type": "code",
   "execution_count": 31,
   "metadata": {},
   "outputs": [
    {
     "data": {
      "image/png": "[encoded data removed]",
      "text/plain": [
       "<Figure size 648x432 with 1 Axes>"
      ]
     },
     "metadata": {},
     "output_type": "display_data"
    }
   ],
   "source": [
    "with plt.style.context('seaborn-whitegrid'):\n",
    "    plt.figure(figsize=(9, 6))\n",
    "    for lab, col in zip((1, 2, 3),\n",
    "                        ('green', 'blue', 'black')):\n",
    "        plt.scatter(Y[y==lab, 0],\n",
    "                    Y[y==lab, 1],\n",
    "                    label=lab,\n",
    "                    c=col)\n",
    "    plt.xlabel('Principal Component 1')\n",
    "    plt.ylabel('Principal Component 2')\n",
    "    plt.legend(loc='lower center')\n",
    "    plt.tight_layout()\n",
    "    plt.show()\n"
   ]
  },
  {
   "cell_type": "markdown",
   "metadata": {},
   "source": [
    "## K Fold Cross Validation"
   ]
  },
  {
   "cell_type": "code",
   "execution_count": 32,
   "metadata": {},
   "outputs": [],
   "source": [
    "def KFoldCrossWithPCA(X,y):\n",
    "    size = int(len(X)/5)\n",
    "    arr = []\n",
    "    \n",
    "    for i in range(5):\n",
    "        \n",
    "        \"\"\"Spiliting The Data\"\"\"\n",
    "        \n",
    "        X_test = X[i*size:(i+1)*size]\n",
    "        y_test = y[i*size:(i+1)*size]\n",
    "        X_train= np.concatenate((X[:i*size], X[(i+1)*size:]))\n",
    "        y_train= np.concatenate((y[:i*size], y[(i+1)*size:]))\n",
    "        \n",
    "        \"\"\"Applying PCA and transforming X_train and X_test\"\"\"\n",
    "        \n",
    "        # calculating the matrix W from train_data\n",
    "        \n",
    "        mean_vec = np.mean(X_train, axis = 0)\n",
    "        cov_mat  = (X_train - mean_vec).T.dot((X_train - mean_vec)) / (X_train.shape[0]-1)\n",
    "        eig_vals, eig_vecs = np.linalg.eig(cov_mat)\n",
    "        \n",
    "        eig_pairs = [(np.abs(eig_vals[i]), eig_vecs[:,i]) for i in range(len(eig_vals))]\n",
    "        eig_pairs.sort(key=lambda x: x[0], reverse=True)\n",
    "        \n",
    "        num_of_features = len(X[0])\n",
    "        \n",
    "        matrix_w = np.hstack((eig_pairs[0][1].reshape(num_of_features,1),\n",
    "                              eig_pairs[1][1].reshape(num_of_features,1)),\n",
    "                            )\n",
    "        \n",
    "        # transforming the matrix X_train and X_test using matrix_w\n",
    "        \n",
    "        X_train_pca = X_train.dot(matrix_w)\n",
    "        X_test_pca  = X_test.dot(matrix_w)\n",
    "            \n",
    "        new_accuracy = accuracy(X_test_pca, X_train_pca, y_train, y_test)\n",
    "                \n",
    "        arr.append(new_accuracy)\n",
    "        \n",
    "    arr = np.array(arr)\n",
    "    \n",
    "    return arr\n",
    "    "
   ]
  },
  {
   "cell_type": "code",
   "execution_count": 33,
   "metadata": {},
   "outputs": [
    {
     "name": "stdout",
     "output_type": "stream",
     "text": [
      "Mean Accuracy is :0.4550955414012739\n"
     ]
    }
   ],
   "source": [
    "arrPCA = KFoldCrossWithPCA(X_std, y)\n",
    "print(\"Mean Accuracy is :\" + str(np.mean(arrPCA)))"
   ]
  },
  {
   "cell_type": "markdown",
   "metadata": {},
   "source": [
    "# Dropping samples with Maximum Outliner Features"
   ]
  },
  {
   "cell_type": "code",
   "execution_count": 34,
   "metadata": {},
   "outputs": [],
   "source": [
    "def remove_OutLiner_Sample(X_train, y_train):\n",
    "    outLiner = []\n",
    "\n",
    "    class_mean = np.mean(X_train, axis = 0)\n",
    "    class_var = np.var(X_train, axis = 0)\n",
    "\n",
    "    mx_cnt = 0\n",
    "\n",
    "    for i in range(len(X_train)):\n",
    "\n",
    "        cnt = 0\n",
    "        for j in range(len(X_train[i])):\n",
    "            if X_train[i][j] > class_mean[j] + 3*(np.sqrt(class_var[j])):\n",
    "                cnt += 1\n",
    "        if cnt > mx_cnt:\n",
    "            mx_cnt = cnt\n",
    "\n",
    "        outLiner.append((cnt,i))\n",
    "\n",
    "    for tup in outLiner:\n",
    "        if tup[0] == mx_cnt:\n",
    "            X_train = np.delete(X_train, tup[1], axis = 0)\n",
    "            y_train = np.delete(y_train,tup[1])\n",
    "            \n",
    "    return X_train, y_train"
   ]
  },
  {
   "cell_type": "markdown",
   "metadata": {},
   "source": [
    "**Removing Outliners Samples**"
   ]
  },
  {
   "cell_type": "code",
   "execution_count": 35,
   "metadata": {},
   "outputs": [],
   "source": [
    "X, y = remove_OutLiner_Sample(X, y)"
   ]
  },
  {
   "cell_type": "markdown",
   "metadata": {},
   "source": [
    "# Sequential Backward Selection"
   ]
  },
  {
   "cell_type": "code",
   "execution_count": 36,
   "metadata": {},
   "outputs": [],
   "source": [
    "def criterion_func(X_test, X_train, y_train, y_test, feature):\n",
    "    \n",
    "    X_train_cp =[]\n",
    "    X_test_cp  =[]\n",
    "    \n",
    "    num_examples = X_train.shape[0]\n",
    "    \n",
    "    total = len(X_train[0])\n",
    "            \n",
    "    for i in range(total):\n",
    "        if i in feature:\n",
    "            train_col = X_train[:,i]\n",
    "            test_col  = X_test[:,i]\n",
    "            X_train_cp.append(train_col)\n",
    "            X_test_cp.append(test_col)\n",
    "    \n",
    "    X_train_cp = np.array(X_train_cp)\n",
    "    X_test_cp  = np.array(X_test_cp)\n",
    "    \n",
    "    X_train_cp = X_train_cp.T\n",
    "    X_test_cp  = X_test_cp.T\n",
    "    \n",
    "    my_preds = predict(X_test_cp, X_train_cp, y_train)\n",
    "    \n",
    "    cnt = 0.0\n",
    "    \n",
    "    \n",
    "    for i in range(len(my_preds)):\n",
    "        if my_preds[i] == y_test[i]:\n",
    "            cnt+=1\n",
    "            \n",
    "    return cnt/len(my_preds)"
   ]
  },
  {
   "cell_type": "code",
   "execution_count": 37,
   "metadata": {},
   "outputs": [],
   "source": [
    "def SBS(X_test, X_train, y_train, y_test):\n",
    "    \n",
    "    features = []\n",
    "    for i in range(len(X_train[0])):\n",
    "        features.append(i)\n",
    "    \n",
    "    feat_sub = features\n",
    "    curr_acc = 0.0\n",
    "    \n",
    "    while len(feat_sub) != 1:\n",
    "        \n",
    "          \n",
    "        curr_acc = criterion_func(X_test, X_train, y_train, y_test, feat_sub)\n",
    "        flag = 0\n",
    "        \n",
    "        worst_feat = len(feat_sub)-1\n",
    "        max_acc = criterion_func(X_test, X_train, y_train, y_test,feat_sub[:-1])\n",
    "        \n",
    "        if max_acc >=curr_acc:\n",
    "            flag = 1\n",
    "        \n",
    "        for i in reversed(range(0,len(feat_sub)-1)):\n",
    "            \n",
    "            xxxarrr = np.concatenate((feat_sub[:i], feat_sub[i+1:]))\n",
    "            \n",
    "            crit_func_eval = criterion_func(X_test, X_train, y_train, y_test, xxxarrr)\n",
    "            \n",
    "            if crit_func_eval > max_acc:\n",
    "                worst_feat, max_acc = i, crit_func_eval\n",
    "                \n",
    "            if max_acc >= curr_acc:\n",
    "                flag = 1\n",
    "            \n",
    "        curr_acc = max(curr_acc, max_acc)\n",
    "        \n",
    "     \n",
    "        if flag == 0:\n",
    "            break  \n",
    "                        \n",
    "        feat_sub = np.delete(feat_sub, worst_feat)\n",
    "        \n",
    "    return  feat_sub"
   ]
  },
  {
   "cell_type": "code",
   "execution_count": 38,
   "metadata": {},
   "outputs": [],
   "source": [
    "X_std = normaliseMat(X, 1, 7)\n",
    "X_train, X_test, y_train, y_test = train_test_split(X_std, y, test_size= 0.2, random_state=1810)"
   ]
  },
  {
   "cell_type": "markdown",
   "metadata": {},
   "source": [
    "### Removing Features using SBS"
   ]
  },
  {
   "cell_type": "code",
   "execution_count": 39,
   "metadata": {},
   "outputs": [
    {
     "name": "stdout",
     "output_type": "stream",
     "text": [
      "Final feature set obtained having the following columns [0 indexed]: [1 4 6]\n"
     ]
    }
   ],
   "source": [
    "feat_sub = SBS(X_test, X_train, y_train, y_test)\n",
    "print(\"Final feature set obtained having the following columns [0 indexed]:\", feat_sub)"
   ]
  },
  {
   "cell_type": "markdown",
   "metadata": {},
   "source": [
    "### Printing Feature Names"
   ]
  },
  {
   "cell_type": "code",
   "execution_count": 40,
   "metadata": {},
   "outputs": [
    {
     "name": "stdout",
     "output_type": "stream",
     "text": [
      "predicted_deaths_by_october_06\n",
      "predicted_deaths_by_october_09\n",
      "predicted_deaths_by_october_11\n"
     ]
    }
   ],
   "source": [
    "colnames = df.columns\n",
    "for i in feat_sub:\n",
    "    print(colnames[i])"
   ]
  },
  {
   "cell_type": "markdown",
   "metadata": {},
   "source": [
    "## K Fold Cross Validation"
   ]
  },
  {
   "cell_type": "code",
   "execution_count": 41,
   "metadata": {},
   "outputs": [],
   "source": [
    "def KFoldCrossValSBS(X, y, feat_sub):\n",
    "        \n",
    "        \n",
    "    size = int(len(X)/5)\n",
    "    arr = []\n",
    "    \n",
    "    for i in range(5):\n",
    "                \n",
    "        X_test = X[i*size:(i+1)*size]\n",
    "        y_test = y[i*size:(i+1)*size]\n",
    "        X_train= np.concatenate((X[:i*size], X[(i+1)*size:]))\n",
    "        y_train= np.concatenate((y[:i*size], y[(i+1)*size:]))\n",
    "                 \n",
    "        new_accuracy = criterion_func(X_test, X_train, y_train, y_test, feat_sub)\n",
    "        \n",
    "        arr.append(new_accuracy)\n",
    "    arr = np.array(arr)\n",
    "    return arr"
   ]
  },
  {
   "cell_type": "code",
   "execution_count": 42,
   "metadata": {},
   "outputs": [
    {
     "name": "stdout",
     "output_type": "stream",
     "text": [
      "\n",
      "Mean Accuracy is :0.48903225806451617\n"
     ]
    }
   ],
   "source": [
    "arrSBS = KFoldCrossValSBS(X_std, y, feat_sub)\n",
    "print(\"\\nMean Accuracy is :\" + str(np.mean(arrSBS)))"
   ]
  },
  {
   "cell_type": "code",
   "execution_count": null,
   "metadata": {},
   "outputs": [],
   "source": []
  }
 ],
 "metadata": {
  "kernelspec": {
   "display_name": "Python 3",
   "language": "python",
   "name": "python3"
  },
  "language_info": {
   "codemirror_mode": {
    "name": "ipython",
    "version": 3
   },
   "file_extension": ".py",
   "mimetype": "text/x-python",
   "name": "python",
   "nbconvert_exporter": "python",
   "pygments_lexer": "ipython3",
   "version": "3.8.3"
  }
 },
 "nbformat": 4,
 "nbformat_minor": 4
}
